{
 "cells": [
  {
   "cell_type": "markdown",
   "id": "b34a20d8",
   "metadata": {},
   "source": [
    "IR spectral analysis"
   ]
  },
  {
   "cell_type": "code",
   "execution_count": 3,
   "id": "ab9c44ac",
   "metadata": {},
   "outputs": [],
   "source": [
    "import os\n",
    "import pandas as pd\n",
    "import numpy as np\n",
    "import matplotlib.pyplot as plt\n",
    "from scipy.optimize import curve_fit\n",
    "\n",
    "from numpy import log as ln"
   ]
  },
  {
   "cell_type": "markdown",
   "id": "6e15ec43",
   "metadata": {},
   "source": [
    "So ASCII is is American Standard Code for Information Interchange!"
   ]
  },
  {
   "cell_type": "code",
   "execution_count": 218,
   "id": "fa672241",
   "metadata": {},
   "outputs": [
    {
     "data": {
      "text/plain": [
       "'C:\\\\Users\\\\hwbst6\\\\OneDrive - Sheffield Hallam University\\\\StudentProjects\\\\Student projects 2022_23\\\\MSc\\\\Bhargav\\\\130623'"
      ]
     },
     "execution_count": 218,
     "metadata": {},
     "output_type": "execute_result"
    }
   ],
   "source": [
    "pwd\n"
   ]
  },
  {
   "cell_type": "code",
   "execution_count": 4,
   "id": "98dde13e",
   "metadata": {},
   "outputs": [
    {
     "name": "stdout",
     "output_type": "stream",
     "text": [
      " Volume in drive C is Windows\n",
      " Volume Serial Number is 4632-2130\n",
      "\n",
      " Directory of C:\\Users\\hwbst6\\OneDrive - Sheffield Hallam University\\StudentProjects\\Student projects 2022_23\\MSc\\Bhargav\\140623\n",
      "\n",
      "15/06/2023  11:35    <DIR>          .\n",
      "15/06/2023  11:35    <DIR>          ..\n",
      "15/06/2023  11:35    <DIR>          .ipynb_checkpoints\n",
      "14/06/2023  10:08            16,939 BAS_100_001_2023-06-14T09-58-46.a2r\n",
      "14/06/2023  10:08            16,942 BAS_Buffer_001_2023-06-13T15-54-39.a2r\n",
      "14/06/2023  10:08            16,942 BAS_Buffer_001_2023-06-13T15-56-35.a2r\n",
      "14/06/2023  10:08            16,942 BAS_Buffer_001_2023-06-14T09-51-13.a2r\n",
      "14/06/2023  10:08            16,942 BAS_Buffer_001_2023-06-14T09-54-14.a2r\n",
      "14/06/2023  10:08            16,938 BAS_Buffer_001_2023-06-14T09-55-56.a2r\n",
      "14/06/2023  10:08            16,937 BAS_Water_2023-06-13T15-51-57.a2r\n",
      "15/06/2023  11:35             1,059 IR spectral analysis.ipynb\n",
      "               8 File(s)        119,641 bytes\n",
      "               3 Dir(s)  153,884,004,352 bytes free\n"
     ]
    }
   ],
   "source": [
    "ls"
   ]
  },
  {
   "cell_type": "code",
   "execution_count": 5,
   "id": "3c55ea51",
   "metadata": {},
   "outputs": [
    {
     "name": "stdout",
     "output_type": "stream",
     "text": [
      " Volume in drive C is Windows\n",
      " Volume Serial Number is 4632-2130\n",
      "\n",
      " Directory of C:\\Users\\hwbst6\\OneDrive - Sheffield Hallam University\\StudentProjects\\Student projects 2022_23\\MSc\\Bhargav\\140623\n",
      "\n",
      "15/06/2023  14:27    <DIR>          .\n",
      "15/06/2023  14:27    <DIR>          ..\n",
      "15/06/2023  11:35    <DIR>          .ipynb_checkpoints\n",
      "14/06/2023  10:08            16,939 BAS_100_001_2023-06-14T09-58-46.a2r\n",
      "14/06/2023  10:08            16,942 BAS_Buffer_001_2023-06-13T15-54-39.a2r\n",
      "14/06/2023  10:08            16,942 BAS_Buffer_001_2023-06-13T15-56-35.a2r\n",
      "14/06/2023  10:08            16,942 BAS_Buffer_001_2023-06-14T09-51-13.a2r\n",
      "14/06/2023  10:08            16,942 BAS_Buffer_001_2023-06-14T09-54-14.a2r\n",
      "14/06/2023  10:08            16,938 BAS_Buffer_001_2023-06-14T09-55-56.a2r\n",
      "14/06/2023  10:08            16,937 BAS_Water_2023-06-13T15-51-57.a2r\n",
      "15/06/2023  11:37             3,125 IR spectral analysis.ipynb\n",
      "               8 File(s)        121,707 bytes\n",
      "               3 Dir(s)  154,025,930,752 bytes free\n"
     ]
    }
   ],
   "source": [
    "ls\n"
   ]
  },
  {
   "cell_type": "code",
   "execution_count": 6,
   "id": "6e948f6b",
   "metadata": {},
   "outputs": [
    {
     "name": "stdout",
     "output_type": "stream",
     "text": [
      "C:\\Users\\hwbst6\\OneDrive - Sheffield Hallam University\\StudentProjects\\Student projects 2022_23\\MSc\\Bhargav\n"
     ]
    }
   ],
   "source": [
    "cd ..\n"
   ]
  },
  {
   "cell_type": "code",
   "execution_count": 7,
   "id": "b07220a3",
   "metadata": {},
   "outputs": [
    {
     "name": "stdout",
     "output_type": "stream",
     "text": [
      " Volume in drive C is Windows\n",
      " Volume Serial Number is 4632-2130\n",
      "\n",
      " Directory of C:\\Users\\hwbst6\\OneDrive - Sheffield Hallam University\\StudentProjects\\Student projects 2022_23\\MSc\\Bhargav\n",
      "\n",
      "15/06/2023  14:27    <DIR>          .\n",
      "15/06/2023  14:27    <DIR>          ..\n",
      "15/06/2023  14:27    <DIR>          130623\n",
      "15/06/2023  14:27    <DIR>          140623\n",
      "05/06/2023  23:37           519,966 Bhargav Researchproject RA form Jan 2019 (003).docx\n",
      "12/06/2023  14:17           529,432 Bhargav Sardhara RA MSc-ST-54_SMT.docx\n",
      "               2 File(s)      1,049,398 bytes\n",
      "               4 Dir(s)  154,023,616,512 bytes free\n"
     ]
    }
   ],
   "source": [
    "ls\n"
   ]
  },
  {
   "cell_type": "code",
   "execution_count": 8,
   "id": "8ec0bae3",
   "metadata": {},
   "outputs": [
    {
     "name": "stdout",
     "output_type": "stream",
     "text": [
      "C:\\Users\\hwbst6\\OneDrive - Sheffield Hallam University\\StudentProjects\\Student projects 2022_23\\MSc\\Bhargav\\130623\n"
     ]
    }
   ],
   "source": [
    "cd 130623"
   ]
  },
  {
   "cell_type": "code",
   "execution_count": 9,
   "id": "8c939e2b",
   "metadata": {},
   "outputs": [
    {
     "name": "stdout",
     "output_type": "stream",
     "text": [
      " Volume in drive C is Windows\n",
      " Volume Serial Number is 4632-2130\n",
      "\n",
      " Directory of C:\\Users\\hwbst6\\OneDrive - Sheffield Hallam University\\StudentProjects\\Student projects 2022_23\\MSc\\Bhargav\\130623\n",
      "\n",
      "15/06/2023  14:27    <DIR>          .\n",
      "15/06/2023  14:27    <DIR>          ..\n",
      "14/06/2023  09:59            17,358 BAS_100_001_2023-06-14T09-58-46.asp\n",
      "14/06/2023  09:57            17,340 BAS_25_001_2023-06-14T09-55-56.asp\n",
      "13/06/2023  15:55            17,357 BAS_Buffer_001_2023-06-13T15-54-39.asp\n",
      "13/06/2023  15:56            17,340 BAS_Buffer_001_2023-06-13T15-56-35.asp\n",
      "13/06/2023  15:53            17,342 BAS_Water_2023-06-13T15-51-57.asp\n",
      "               5 File(s)         86,737 bytes\n",
      "               2 Dir(s)  154,022,948,864 bytes free\n"
     ]
    }
   ],
   "source": [
    "ls\n"
   ]
  },
  {
   "cell_type": "code",
   "execution_count": 12,
   "id": "b5d5997e",
   "metadata": {},
   "outputs": [],
   "source": [
    "ir_spec_raw = pd.read_csv('BAS_Water_2023-06-13T15-51-57.asp') #spectra name here"
   ]
  },
  {
   "cell_type": "code",
   "execution_count": 225,
   "id": "de929a45",
   "metadata": {},
   "outputs": [
    {
     "name": "stdout",
     "output_type": "stream",
     "text": [
      "<class 'float'>\n",
      "<class 'float'>\n",
      "<class 'float'>\n",
      "3.723483299641966\n",
      "967\n"
     ]
    },
    {
     "data": {
      "image/png": "[encoded data removed]",
      "text/plain": [
       "<Figure size 640x480 with 2 Axes>"
      ]
     },
     "metadata": {},
     "output_type": "display_data"
    }
   ],
   "source": [
    "ir_spec_raw = pd.read_csv('BAS_Water_2023-06-13T15-51-57.asp') #spectra name here\n",
    "\n",
    "# we need th col name as a float?\n",
    "\n",
    "col_head = list(ir_spec_raw.columns)\n",
    "num_spec_points = col_head[(0)]\n",
    "\n",
    "high_wavnum = ir_spec_raw.iloc[0,0] #highest wavenumber\n",
    "high_wavnum = float(high_wavnum)\n",
    "print(type(high_wavnum))\n",
    "\n",
    "low_wavnum = ir_spec_raw.iloc[1,0] #lowest wavenumber\n",
    "\n",
    "low_wavnum = float(low_wavnum)\n",
    "print(type(low_wavnum))\n",
    "\n",
    "num_spec_points = float(num_spec_points)\n",
    "\n",
    "print(type(num_spec_points))\n",
    "\n",
    "spec_gap = ( high_wavnum - low_wavnum ) / num_spec_points\n",
    "\n",
    "print(spec_gap)\n",
    "\n",
    "list(wav_nums)\n",
    "\n",
    "\n",
    "\n",
    "#wav_nums = np.arange(high_wavnum, low_wavnum, spec_gap)\n",
    "\n",
    "#print(np.arange(high_wavnum, low_wavnum, spec_gap))\n",
    "#wav_nums\n",
    "#wav_nums = np.arange(500, 400, 4)\n",
    "\n",
    "wav_nums = np.arange(low_wavnum, high_wavnum, spec_gap)\n",
    "\n",
    "\n",
    "\n",
    "wav_num_rev=[]\n",
    "\n",
    "for i in reversed(np.arange(low_wavnum, high_wavnum, spec_gap)):\n",
    "        wav_num_rev.append(i)\n",
    "    \n",
    "spec_sin = pd.DataFrame()\n",
    "spec_sin['wave number / cm^-1'] = wav_num_rev\n",
    "\n",
    "spec_trans=[]\n",
    "\n",
    "#spec_trans.reset_index()\n",
    "\n",
    "#spec_sin['spec1'] = ir_spec_raw.iloc[5:,0]\n",
    "\n",
    "\n",
    "spec_trans = ir_spec_raw.iloc[5:,0]\n",
    "\n",
    "spec_trans = spec_trans.reset_index(drop=True)\n",
    "\n",
    "spec_sin['spec1'] = spec_trans\n",
    " \n",
    "\n",
    "#spec_trans.reset_index(level='list')\n",
    "\n",
    "#spec_sin\n",
    "\n",
    "#ir_specspec_sin_raw\n",
    "\n",
    "print(len(spec_trans))\n",
    "\n",
    "#print('spec_trans')\n",
    "ydata = spec_sin['spec1']\n",
    "xdata = spec_sin['wave number / cm^-1']\n",
    "\n",
    "# creating graph space for two graphs for now just inverting\n",
    "graph, (plot1, plot2) = plt.subplots(1, 2)\n",
    "\n",
    "# plot1 graph for normal axes\n",
    "plot1.plot(xdata, ydata, label='spec1')\n",
    "plot1.set_title(\"Normal Plot\")\n",
    "\n",
    "\n",
    "# plot2 graph for inverted axes\n",
    "plot2.plot(xdata, ydata, label='spec1')\n",
    "plot2.set_title(\"Inverted Plot\")\n",
    "plot2.invert_xaxis()\n",
    "\n",
    "\n",
    " \n",
    "# display the graph\n",
    "graph.supxlabel(\"wave number / cm^-1\")\n",
    "graph.supylabel(\"transmitance\")\n",
    "graph.tight_layout()\n",
    "plt.show()\n",
    "\n",
    "spec_sin.to_csv(\"'BAS_Water_2023-06-13T15-51-57.csv\",index=False)\n",
    "\n",
    "spec_glob = pd.DataFrame(spec_sin)\n",
    "\n",
    "ir_spec_raw = pd.read_csv('BAS_25_001_2023-06-14T09-55-56.asp') #second spectra name here"
   ]
  },
  {
   "cell_type": "code",
   "execution_count": 1,
   "id": "4e54ddc8",
   "metadata": {},
   "outputs": [
    {
     "data": {
      "text/plain": [
       "'C:\\\\Users\\\\hwbst6\\\\OneDrive - Sheffield Hallam University\\\\StudentProjects\\\\Student projects 2022_23\\\\MSc\\\\Bhargav\\\\140623'"
      ]
     },
     "execution_count": 1,
     "metadata": {},
     "output_type": "execute_result"
    }
   ],
   "source": [
    "pwd"
   ]
  },
  {
   "cell_type": "code",
   "execution_count": 220,
   "id": "ec78cc97",
   "metadata": {},
   "outputs": [
    {
     "data": {
      "text/plain": [
       "'C:\\\\Users\\\\hwbst6\\\\OneDrive - Sheffield Hallam University\\\\StudentProjects\\\\Student projects 2022_23\\\\MSc\\\\Bhargav\\\\130623'"
      ]
     },
     "execution_count": 220,
     "metadata": {},
     "output_type": "execute_result"
    }
   ],
   "source": [
    "pwd"
   ]
  },
  {
   "cell_type": "code",
   "execution_count": 224,
   "id": "cb493c6e",
   "metadata": {},
   "outputs": [
    {
     "name": "stdout",
     "output_type": "stream",
     "text": [
      " Volume in drive C is Windows\n",
      " Volume Serial Number is 4632-2130\n",
      "\n",
      " Directory of C:\\Users\\hwbst6\\OneDrive - Sheffield Hallam University\\StudentProjects\\Student projects 2022_23\\MSc\\Bhargav\\130623\n",
      "\n",
      "19/06/2023  17:55    <DIR>          .\n",
      "19/06/2023  17:55    <DIR>          ..\n",
      "14/06/2023  09:59            17,358 BAS_100_001_2023-06-14T09-58-46.asp\n",
      "14/06/2023  09:57            17,340 BAS_25_001_2023-06-14T09-55-56.asp\n",
      "13/06/2023  15:55            17,357 BAS_Buffer_001_2023-06-13T15-54-39.asp\n",
      "13/06/2023  15:56            17,340 BAS_Buffer_001_2023-06-13T15-56-35.asp\n",
      "19/06/2023  17:51            35,187 'BAS_Water_2023-06-13T15-51-57\n",
      "13/06/2023  15:53            17,342 BAS_Water_2023-06-13T15-51-57.asp\n",
      "19/06/2023  17:58            35,187 'BAS_Water_2023-06-13T15-51-57.csv\n",
      "               7 File(s)        157,111 bytes\n",
      "               2 Dir(s)  153,310,203,904 bytes free\n"
     ]
    }
   ],
   "source": [
    "ls"
   ]
  },
  {
   "cell_type": "code",
   "execution_count": 261,
   "id": "2f7d8663",
   "metadata": {},
   "outputs": [
    {
     "name": "stdout",
     "output_type": "stream",
     "text": [
      "Enter *.asp location:C:\\\\Users\\\\hwbst6\\\\OneDrive - Sheffield Hallam University\\\\StudentProjects\\\\Student projects 2022_23\\\\MSc\\\\Bhargav\\\\130623\n",
      "Enter *asp file name:BAS_100_001_2023-06-14T09-58-46\n",
      "Enter *.csv outut name:BAS_100_001_2023-06-14T09-58-46\n"
     ]
    },
    {
     "data": {
      "image/png": "[encoded data removed]",
      "text/plain": [
       "<Figure size 640x480 with 2 Axes>"
      ]
     },
     "metadata": {},
     "output_type": "display_data"
    }
   ],
   "source": [
    "#our first *.asp to *.csv script\n",
    "\n",
    "import os\n",
    "import pandas as pd\n",
    "import numpy as np\n",
    "import matplotlib.pyplot as plt\n",
    "from scipy.optimize import curve_fit\n",
    "\n",
    "from numpy import log as ln\n",
    "\n",
    "file_loc = input(\"Enter *.asp location:\") \n",
    "\n",
    "file_name = input(\"Enter *asp file name:\")\n",
    "\n",
    "csv_name = input(\"Enter *.csv outut name:\")\n",
    "\n",
    "\n",
    "ir_spec_raw = pd.read_csv(file_loc + '\\\\' + file_name + '.asp') #spectra name here\n",
    "\n",
    "#we need the col name as a float?\n",
    "\n",
    "col_head = list(ir_spec_raw.columns)\n",
    "num_spec_points = col_head[(0)]\n",
    "\n",
    "# build the x axis (wavenumbers) from the file format\n",
    "\n",
    "high_wavnum = ir_spec_raw.iloc[0,0] #highest wavenumber\n",
    "high_wavnum = float(high_wavnum)\n",
    "low_wavnum = ir_spec_raw.iloc[1,0] #lowest wavenumber\n",
    "low_wavnum = float(low_wavnum)\n",
    "num_spec_points = float(num_spec_points)\n",
    "spec_gap = ( high_wavnum - low_wavnum ) / num_spec_points #calaculate spectral gap\n",
    "wav_num = []\n",
    "wav_nums = np.arange(low_wavnum, high_wavnum, spec_gap)\n",
    "wav_num_rev=[]\n",
    "\n",
    "for i in reversed(np.arange(low_wavnum, high_wavnum, spec_gap)): #build the list of wave numbers\n",
    "        wav_num_rev.append(i)\n",
    "#set first col in dataframe as x axis (wavenumber)   \n",
    "spec_sin = pd.DataFrame()\n",
    "spec_sin['wave number / cm^-1'] = wav_num_rev\n",
    "\n",
    "#add y axis (transmitance) to dataframe\n",
    "spec_trans=[] # a list to transport transmitance data\n",
    "spec_trans = ir_spec_raw.iloc[5:,0] #it gets sliced\n",
    "spec_trans = spec_trans.reset_index(drop=True) #it gets reindexed\n",
    "spec_sin['spec1'] = spec_trans\n",
    " \n",
    "\n",
    "#We plot to check it works\n",
    "ydata = spec_sin['spec1']\n",
    "xdata = spec_sin['wave number / cm^-1']\n",
    "\n",
    "# creating graph space for two graphs for now just inverting\n",
    "graph, (plot1, plot2) = plt.subplots(1, 2)\n",
    "\n",
    "# plot1 graph for normal axes\n",
    "plot1.plot(xdata, ydata, label='spec1')\n",
    "plot1.set_title(\"Normal Plot\")\n",
    "\n",
    "# plot2 graph for inverted axes\n",
    "plot2.plot(xdata, ydata, label='spec1')\n",
    "plot2.set_title(\"Inverted Plot\")\n",
    "plot2.invert_xaxis()\n",
    "\n",
    "# display the graph\n",
    "graph.supxlabel(\"wave number / cm^-1\")\n",
    "graph.supylabel(\"transmitance\")\n",
    "graph.tight_layout()\n",
    "plt.show()\n",
    "\n",
    "spec_sin.to_csv(csv_name+\".csv\",index=False)\n",
    "\n"
   ]
  },
  {
   "cell_type": "code",
   "execution_count": 228,
   "id": "83e51f8e",
   "metadata": {},
   "outputs": [
    {
     "data": {
      "text/plain": [
       "'C:\\\\Users\\\\hwbst6\\\\OneDrive - Sheffield Hallam University\\\\StudentProjects\\\\Student projects 2022_23\\\\MSc\\\\Bhargav\\\\130623'"
      ]
     },
     "execution_count": 228,
     "metadata": {},
     "output_type": "execute_result"
    }
   ],
   "source": [
    "pwd"
   ]
  },
  {
   "cell_type": "code",
   "execution_count": 236,
   "id": "11793e0c",
   "metadata": {},
   "outputs": [
    {
     "name": "stdout",
     "output_type": "stream",
     "text": [
      " Volume in drive C is Windows\n",
      " Volume Serial Number is 4632-2130\n",
      "\n",
      " Directory of C:\\Users\\hwbst6\\OneDrive - Sheffield Hallam University\\StudentProjects\\Student projects 2022_23\\MSc\\Bhargav\\130623\n",
      "\n",
      "19/06/2023  18:38    <DIR>          .\n",
      "19/06/2023  18:38    <DIR>          ..\n",
      "14/06/2023  09:59            17,358 BAS_100_001_2023-06-14T09-58-46.asp\n",
      "14/06/2023  09:57            17,340 BAS_25_001_2023-06-14T09-55-56.asp\n",
      "13/06/2023  15:55            17,357 BAS_Buffer_001_2023-06-13T15-54-39.asp\n",
      "13/06/2023  15:56            17,340 BAS_Buffer_001_2023-06-13T15-56-35.asp\n",
      "19/06/2023  17:51            35,187 'BAS_Water_2023-06-13T15-51-57\n",
      "13/06/2023  15:53            17,342 BAS_Water_2023-06-13T15-51-57.asp\n",
      "19/06/2023  18:12            35,187 BAS_Water_2023-06-13T15-51-57.csv\n",
      "19/06/2023  18:03            35,187 'BAS_Water_2023-06-13T15-51-57.csv\n",
      "19/06/2023  18:31            35,185 test.csv\n",
      "19/06/2023  18:34            35,187 test2.csv\n",
      "19/06/2023  18:38            35,187 water.csv\n",
      "              11 File(s)        297,857 bytes\n",
      "               2 Dir(s)  153,152,630,784 bytes free\n"
     ]
    }
   ],
   "source": [
    "ls"
   ]
  },
  {
   "cell_type": "code",
   "execution_count": 278,
   "id": "1f7b65da",
   "metadata": {},
   "outputs": [
    {
     "name": "stdout",
     "output_type": "stream",
     "text": [
      "     wave number / cm^-1       spec1\n",
      "0            3995.710016  100.250884\n",
      "1            3991.986533  100.056546\n",
      "2            3988.263049  100.001845\n",
      "3            3984.539566  100.082239\n",
      "4            3980.816083  100.091803\n",
      "..                   ...         ...\n",
      "962           413.719082   50.378723\n",
      "963           409.995598   52.181971\n",
      "964           406.272115   54.860353\n",
      "965           402.548632   54.502858\n",
      "966           398.825149   55.925496\n",
      "\n",
      "[967 rows x 2 columns]\n",
      "     wave number / cm^-1       spec1\n",
      "0            3995.710016  100.250884\n",
      "1            3991.986533  100.056546\n",
      "2            3988.263049  100.001845\n",
      "3            3984.539566  100.082239\n",
      "4            3980.816083  100.091803\n",
      "..                   ...         ...\n",
      "962           413.719082   50.378723\n",
      "963           409.995598   52.181971\n",
      "964           406.272115   54.860353\n",
      "965           402.548632   54.502858\n",
      "966           398.825149   55.925496\n",
      "\n",
      "[967 rows x 2 columns]\n"
     ]
    }
   ],
   "source": [
    "# second IR anaysis scipt creating a function that loads an *.asp into a data frame\n",
    "\n",
    "def asptodfd(file_loc, file_name):\n",
    "    import os\n",
    "    import pandas as pd\n",
    "    import numpy as np\n",
    "    import matplotlib.pyplot as plt\n",
    "    from scipy.optimize import curve_fit\n",
    "    from numpy import log as ln\n",
    "    \n",
    "    global spec_sin\n",
    "     \n",
    "    ir_spec_raw = pd.read_csv(file_loc + '\\\\' + file_name + '.asp') #spectra name here\n",
    "    \n",
    "    \n",
    "    \n",
    "    # we need th col name as a float?\n",
    "    col_head = list(ir_spec_raw.columns)\n",
    "    num_spec_points = col_head[(0)]\n",
    "\n",
    "    # build the x axis (wavenumbers) from the file format\n",
    "    high_wavnum = ir_spec_raw.iloc[0,0] #highest wavenumber\n",
    "    high_wavnum = float(high_wavnum)\n",
    "    low_wavnum = ir_spec_raw.iloc[1,0] #lowest wavenumber\n",
    "    low_wavnum = float(low_wavnum)\n",
    "    num_spec_points = float(num_spec_points)\n",
    "    spec_gap = ( high_wavnum - low_wavnum ) / num_spec_points #calaculate spectral gap\n",
    "    wav_num = []\n",
    "    wav_nums = np.arange(low_wavnum, high_wavnum, spec_gap)\n",
    "    wav_num_rev=[]\n",
    "\n",
    "    for i in reversed(np.arange(low_wavnum, high_wavnum, spec_gap)): #build the list of wave numbers\n",
    "        wav_num_rev.append(i)\n",
    "    #set first col in dataframe as x axis (wavenumber)   \n",
    "    spec_sin = pd.DataFrame()\n",
    "    spec_sin['wave number / cm^-1'] = wav_num_rev\n",
    "\n",
    "    #add y axis (transmitance) to dataframe\n",
    "    spec_trans=[] # a list to transport transmitance data\n",
    "    spec_trans = ir_spec_raw.iloc[5:,0] #it gets sliced\n",
    "    spec_trans = spec_trans.reset_index(drop=True) #it gets reindexed\n",
    "    spec_sin['spec1'] = spec_trans\n",
    "    print(spec_sin)\n",
    "    return spec_sin\n",
    "\n",
    "\n",
    "spec_sin = pd.DataFrame() # empty spec_sin \n",
    "\n",
    "asptodfd(\"C:\\\\Users\\\\hwbst6\\\\OneDrive - Sheffield Hallam University\\\\StudentProjects\\\\Student projects 2022_23\\\\MSc\\\\Bhargav\\\\130623\", \"BAS_Buffer_001_2023-06-13T15-54-39\")\n",
    "\n",
    "print(spec_sin)\n"
   ]
  },
  {
   "cell_type": "code",
   "execution_count": 237,
   "id": "5d648c91",
   "metadata": {},
   "outputs": [
    {
     "data": {
      "text/plain": [
       "'C:\\\\Users\\\\hwbst6\\\\OneDrive - Sheffield Hallam University\\\\StudentProjects\\\\Student projects 2022_23\\\\MSc\\\\Bhargav\\\\130623'"
      ]
     },
     "execution_count": 237,
     "metadata": {},
     "output_type": "execute_result"
    }
   ],
   "source": [
    "pwd"
   ]
  },
  {
   "cell_type": "code",
   "execution_count": 238,
   "id": "c3a59f91",
   "metadata": {},
   "outputs": [
    {
     "name": "stdout",
     "output_type": "stream",
     "text": [
      " Volume in drive C is Windows\n",
      " Volume Serial Number is 4632-2130\n",
      "\n",
      " Directory of C:\\Users\\hwbst6\\OneDrive - Sheffield Hallam University\\StudentProjects\\Student projects 2022_23\\MSc\\Bhargav\\130623\n",
      "\n",
      "19/06/2023  18:38    <DIR>          .\n",
      "19/06/2023  18:38    <DIR>          ..\n",
      "14/06/2023  09:59            17,358 BAS_100_001_2023-06-14T09-58-46.asp\n",
      "14/06/2023  09:57            17,340 BAS_25_001_2023-06-14T09-55-56.asp\n",
      "13/06/2023  15:55            17,357 BAS_Buffer_001_2023-06-13T15-54-39.asp\n",
      "13/06/2023  15:56            17,340 BAS_Buffer_001_2023-06-13T15-56-35.asp\n",
      "19/06/2023  17:51            35,187 'BAS_Water_2023-06-13T15-51-57\n",
      "13/06/2023  15:53            17,342 BAS_Water_2023-06-13T15-51-57.asp\n",
      "19/06/2023  18:12            35,187 BAS_Water_2023-06-13T15-51-57.csv\n",
      "19/06/2023  18:03            35,187 'BAS_Water_2023-06-13T15-51-57.csv\n",
      "19/06/2023  18:31            35,185 test.csv\n",
      "19/06/2023  18:34            35,187 test2.csv\n",
      "19/06/2023  18:38            35,187 water.csv\n",
      "              11 File(s)        297,857 bytes\n",
      "               2 Dir(s)  153,392,685,056 bytes free\n"
     ]
    }
   ],
   "source": [
    "ls"
   ]
  },
  {
   "cell_type": "code",
   "execution_count": 5,
   "id": "1b6c6a8a",
   "metadata": {},
   "outputs": [
    {
     "name": "stdout",
     "output_type": "stream",
     "text": [
      "     wave number / cm^-1      water      buffer        RNA  buffer_II  \\\n",
      "0            3995.710016  99.357210  100.250884  99.449744   0.893674   \n",
      "1            3991.986533  99.503426  100.056546  99.334560   0.553120   \n",
      "2            3988.263049  99.649903  100.001845  99.374841   0.351942   \n",
      "3            3984.539566  99.706081  100.082239  99.605234   0.376158   \n",
      "4            3980.816083  99.605651  100.091803  99.664516   0.486151   \n",
      "..                   ...        ...         ...        ...        ...   \n",
      "962           413.719082  50.617030   50.378723  33.771902  -0.238307   \n",
      "963           409.995598  50.933857   52.181971  32.332587   1.248114   \n",
      "964           406.272115  53.679631   54.860353  34.166415   1.180722   \n",
      "965           402.548632  53.593989   54.502858  33.873283   0.908869   \n",
      "966           398.825149  52.556121   55.925496  34.498540   3.369375   \n",
      "\n",
      "        RNA_II  \n",
      "0     0.092534  \n",
      "1    -0.168866  \n",
      "2    -0.275062  \n",
      "3    -0.100848  \n",
      "4     0.058864  \n",
      "..         ...  \n",
      "962 -16.845128  \n",
      "963 -18.601270  \n",
      "964 -19.513216  \n",
      "965 -19.720706  \n",
      "966 -18.057581  \n",
      "\n",
      "[967 rows x 6 columns]\n"
     ]
    },
    {
     "data": {
      "image/png": "[encoded data removed]",
      "text/plain": [
       "<Figure size 640x480 with 2 Axes>"
      ]
     },
     "metadata": {},
     "output_type": "display_data"
    }
   ],
   "source": [
    "# third IR anaysis scipt subtracting a background spectra from a sample spectra\n",
    "\n",
    "def asptodfd(file_loc, file_name):\n",
    "    import os\n",
    "    import pandas as pd\n",
    "    import numpy as np\n",
    "    import matplotlib.pyplot as plt\n",
    "    from scipy.optimize import curve_fit\n",
    "    from numpy import log as ln\n",
    "    \n",
    "    global spec_sin\n",
    "     \n",
    "    ir_spec_raw = pd.read_csv(file_loc + '\\\\' + file_name + '.asp') #spectra name here\n",
    "    \n",
    "    \n",
    "    \n",
    "    # we need th col name as a float?\n",
    "    col_head = list(ir_spec_raw.columns)\n",
    "    num_spec_points = col_head[(0)]\n",
    "\n",
    "    # build the x axis (wavenumbers) from the file format\n",
    "    high_wavnum = ir_spec_raw.iloc[0,0] #highest wavenumber\n",
    "    high_wavnum = float(high_wavnum)\n",
    "    low_wavnum = ir_spec_raw.iloc[1,0] #lowest wavenumber\n",
    "    low_wavnum = float(low_wavnum)\n",
    "    num_spec_points = float(num_spec_points)\n",
    "    spec_gap = ( high_wavnum - low_wavnum ) / num_spec_points #calaculate spectral gap\n",
    "    wav_num = []\n",
    "    wav_nums = np.arange(low_wavnum, high_wavnum, spec_gap)\n",
    "    wav_num_rev=[]\n",
    "\n",
    "    for i in reversed(np.arange(low_wavnum, high_wavnum, spec_gap)): #build the list of wave numbers\n",
    "        wav_num_rev.append(i)\n",
    "    #set first col in dataframe as x axis (wavenumber)   \n",
    "    spec_sin = pd.DataFrame()\n",
    "    spec_sin['wave number / cm^-1'] = wav_num_rev\n",
    "\n",
    "    #add y axis (transmitance) to dataframe\n",
    "    spec_trans=[] # a list to transport transmitance data\n",
    "    spec_trans = ir_spec_raw.iloc[5:,0] #it gets sliced\n",
    "    spec_trans = spec_trans.reset_index(drop=True) #it gets reindexed\n",
    "    spec_sin['spec1'] = spec_trans\n",
    "    return spec_sin\n",
    "\n",
    "asptodfd(\"C:\\\\Users\\\\hwbst6\\\\OneDrive - Sheffield Hallam University\\\\StudentProjects\\\\Student projects 2022_23\\\\MSc\\\\Bhargav\\\\130623\", \"BAS_Water_2023-06-13T15-51-57\")\n",
    "\n",
    "\n",
    "\n",
    "# build multi spec DataFrame and add wave number(xaxis)\n",
    "spec_multi = pd.DataFrame()\n",
    "spec_multi['wave number / cm^-1'] = spec_sin.iloc[0:,0]\n",
    "#print(spec_multi)\n",
    "\n",
    "# add spec 1\n",
    "spec_multi['water'] = spec_sin.iloc[0:,1]\n",
    "#print(spec_multi)\n",
    "\n",
    "asptodfd(\"C:\\\\Users\\\\hwbst6\\\\OneDrive - Sheffield Hallam University\\\\StudentProjects\\\\Student projects 2022_23\\\\MSc\\\\Bhargav\\\\130623\", \"BAS_Buffer_001_2023-06-13T15-54-39\")\n",
    "\n",
    "\n",
    "#print(spec_sin)\n",
    "\n",
    "\n",
    "# add spec 2\n",
    "spec_multi['buffer'] = spec_sin.iloc[0:,1]\n",
    "#print(spec_multi)\n",
    "\n",
    "asptodfd(\"C:\\\\Users\\\\hwbst6\\\\OneDrive - Sheffield Hallam University\\\\StudentProjects\\\\Student projects 2022_23\\\\MSc\\\\Bhargav\\\\130623\", \"BAS_25_001_2023-06-14T09-55-56\")\n",
    "\n",
    "\n",
    "#print(spec_sin)\n",
    "\n",
    "\n",
    "# add spec 3\n",
    "spec_multi['RNA'] = spec_sin.iloc[0:,1]\n",
    "#print(spec_multi)\n",
    "\n",
    "\n",
    "# subtract bacground water buffer\n",
    "spec_multi['buffer_II'] = spec_multi.iloc[0:,2] - spec_multi.iloc[0:,1]\n",
    "#print(spec_multi)\n",
    "\n",
    "# subtract bacground buffer RNA\n",
    "spec_multi['RNA_II'] = spec_multi.iloc[0:,3] - spec_multi.iloc[0:,1]\n",
    "print(spec_multi)\n",
    "\n",
    "#We plot to check it works\n",
    "ydata1 = spec_multi['buffer_II']\n",
    "ydata2 = spec_multi['RNA_II']\n",
    "xdata = spec_multi['wave number / cm^-1']\n",
    "\n",
    "# creating graph space for two graphs for now just inverting\n",
    "graph, (plot1, plot2) = plt.subplots(1, 2)\n",
    "\n",
    "# plot1 graph for normal axes\n",
    "plot1.plot(xdata, ydata2, label='spec1')\n",
    "plot1.set_title(\"RNA minus buffer\")\n",
    "plot1.invert_xaxis()\n",
    "\n",
    "# plot2 graph for inverted axes\n",
    "plot2.plot(xdata, ydata1, label='spec1')\n",
    "plot2.set_title(\"Buffer minus water\")\n",
    "plot2.invert_xaxis()\n",
    "\n",
    "# display the graph\n",
    "graph.supxlabel(\"wave number / cm^-1\")\n",
    "graph.supylabel(\"transmitance\")\n",
    "graph.tight_layout()\n",
    "plt.show()"
   ]
  },
  {
   "cell_type": "code",
   "execution_count": 293,
   "id": "cd5d9dcb",
   "metadata": {},
   "outputs": [
    {
     "data": {
      "text/plain": [
       "'C:\\\\Users\\\\hwbst6\\\\OneDrive - Sheffield Hallam University\\\\StudentProjects\\\\Student projects 2022_23\\\\MSc\\\\Bhargav\\\\130623'"
      ]
     },
     "execution_count": 293,
     "metadata": {},
     "output_type": "execute_result"
    }
   ],
   "source": [
    "pwd"
   ]
  },
  {
   "cell_type": "code",
   "execution_count": 287,
   "id": "d6062218",
   "metadata": {},
   "outputs": [
    {
     "name": "stdout",
     "output_type": "stream",
     "text": [
      " Volume in drive C is Windows\n",
      " Volume Serial Number is 4632-2130\n",
      "\n",
      " Directory of C:\\Users\\hwbst6\\OneDrive - Sheffield Hallam University\\StudentProjects\\Student projects 2022_23\\MSc\\Bhargav\\130623\n",
      "\n",
      "20/06/2023  12:09    <DIR>          .\n",
      "20/06/2023  12:09    <DIR>          ..\n",
      "14/06/2023  09:59            17,358 BAS_100_001_2023-06-14T09-58-46.asp\n",
      "20/06/2023  12:09            35,203 BAS_100_001_2023-06-14T09-58-46.csv\n",
      "14/06/2023  09:57            17,340 BAS_25_001_2023-06-14T09-55-56.asp\n",
      "13/06/2023  15:55            17,357 BAS_Buffer_001_2023-06-13T15-54-39.asp\n",
      "13/06/2023  15:56            17,340 BAS_Buffer_001_2023-06-13T15-56-35.asp\n",
      "19/06/2023  17:51            35,187 'BAS_Water_2023-06-13T15-51-57\n",
      "13/06/2023  15:53            17,342 BAS_Water_2023-06-13T15-51-57.asp\n",
      "19/06/2023  18:12            35,187 BAS_Water_2023-06-13T15-51-57.csv\n",
      "19/06/2023  18:03            35,187 'BAS_Water_2023-06-13T15-51-57.csv\n",
      "19/06/2023  18:31            35,185 test.csv\n",
      "19/06/2023  18:34            35,187 test2.csv\n",
      "19/06/2023  18:38            35,187 water.csv\n",
      "              12 File(s)        333,060 bytes\n",
      "               2 Dir(s)  153,408,819,200 bytes free\n"
     ]
    }
   ],
   "source": [
    "ls"
   ]
  },
  {
   "cell_type": "code",
   "execution_count": 336,
   "id": "87df959e",
   "metadata": {},
   "outputs": [
    {
     "name": "stdout",
     "output_type": "stream",
     "text": [
      "3999.43349933624\n",
      "398.825148582459\n",
      "967.0\n",
      "3.723483299641966\n"
     ]
    },
    {
     "data": {
      "image/png": "[encoded data removed]",
      "text/plain": [
       "<Figure size 640x480 with 2 Axes>"
      ]
     },
     "metadata": {},
     "output_type": "display_data"
    },
    {
     "name": "stdout",
     "output_type": "stream",
     "text": [
      "     wave number / cm^-1      spec1\n",
      "600          1761.620036  96.816401\n",
      "601          1757.896553  96.563246\n",
      "602          1754.173070  96.311730\n",
      "603          1750.449586  96.146659\n",
      "604          1746.726103  95.797457\n",
      "605          1743.002620  95.467149\n",
      "606          1739.279136  95.104887\n",
      "607          1735.555653  94.821940\n",
      "608          1731.832170  94.239181\n",
      "609          1728.108687  93.585155\n",
      "610          1724.385203  93.086177\n",
      "611          1720.661720  92.597837\n",
      "612          1716.938237  91.898700\n",
      "613          1713.214753  90.914266\n",
      "614          1709.491270  90.008882\n",
      "615          1705.767787  89.183983\n",
      "616          1702.044303  88.195732\n",
      "617          1698.320820  87.152810\n",
      "618          1694.597337  85.724094\n",
      "619          1690.873854  84.410673\n",
      "620          1687.150370  83.181290\n",
      "621          1683.426887  81.743683\n",
      "622          1679.703404  80.025978\n",
      "623          1675.979920  78.695134\n",
      "624          1672.256437  77.128919\n",
      "625          1668.532954  75.545718\n",
      "626          1664.809470  73.985536\n",
      "627          1661.085987  72.346275\n",
      "628          1657.362504  70.781212\n",
      "629          1653.639021  69.411319\n",
      "630          1649.915537  67.895840\n",
      "631          1646.192054  66.928139\n",
      "632          1642.468571  65.876777\n",
      "633          1638.745087  65.055727\n",
      "634          1635.021604  64.488320\n",
      "635          1631.298121  64.679038\n",
      "636          1627.574637  64.932443\n",
      "637          1623.851154  65.622202\n",
      "638          1620.127671  66.771695\n",
      "639          1616.404188  68.173061\n",
      "640          1612.680704  70.018963\n",
      "641          1608.957221  71.613440\n",
      "642          1605.233738  73.243522\n",
      "643          1601.510254  74.947203\n",
      "644          1597.786771  76.515599\n",
      "645          1594.063288  77.975593\n",
      "646          1590.339804  79.287527\n",
      "647          1586.616321  80.475110\n",
      "648          1582.892838  81.560668\n",
      "649          1579.169355  82.424673\n",
      "650          1575.445871  83.307666\n",
      "651          1571.722388  84.144145\n",
      "652          1567.998905  84.792255\n",
      "653          1564.275421  85.392851\n",
      "654          1560.551938  85.807453\n",
      "655          1556.828455  86.418538\n",
      "656          1553.104971  86.985420\n",
      "657          1549.381488  87.223303\n",
      "658          1545.658005  87.532869\n",
      "659          1541.934522  87.841784\n",
      "64.4883202273351\n"
     ]
    }
   ],
   "source": [
    "#our first *.asp to *.csv script with modulated  background subtraction\n",
    "\n",
    "import os\n",
    "import pandas as pd\n",
    "import numpy as np\n",
    "import matplotlib.pyplot as plt\n",
    "from scipy.optimize import curve_fit\n",
    "\n",
    "from numpy import log as ln\n",
    "\n",
    "file_loc = \"C:\\\\Users\\\\hwbst6\\\\OneDrive - Sheffield Hallam University\\\\StudentProjects\\\\Student projects 2022_23\\\\MSc\\\\Bhargav\\\\130623\" \n",
    "\n",
    "file_name = \"BAS_Water_2023-06-13T15-51-57\" \n",
    "\n",
    "csv_name = \"smttest\" \n",
    "\n",
    "\n",
    "ir_spec_raw = pd.read_csv(file_loc + '\\\\' + file_name + '.asp') #spectra name here\n",
    "\n",
    "#we need the col name as a float?\n",
    "\n",
    "col_head = list(ir_spec_raw.columns)\n",
    "num_spec_points = col_head[(0)]\n",
    "\n",
    "# build the x axis (wavenumbers) from the file format\n",
    "\n",
    "high_wavnum = ir_spec_raw.iloc[0,0] #highest wavenumber\n",
    "high_wavnum = float(high_wavnum)\n",
    "low_wavnum = ir_spec_raw.iloc[1,0] #lowest wavenumber\n",
    "low_wavnum = float(low_wavnum)\n",
    "num_spec_points = float(num_spec_points)\n",
    "spec_gap = ( high_wavnum - low_wavnum ) / num_spec_points #calaculate spectral gap\n",
    "wav_num = []\n",
    "wav_nums = np.arange(low_wavnum, high_wavnum, spec_gap)\n",
    "wav_num_rev=[]\n",
    "\n",
    "print(high_wavnum)\n",
    "print(low_wavnum)\n",
    "print(num_spec_points)\n",
    "print(spec_gap)\n",
    "\n",
    "for i in reversed(np.arange(low_wavnum, high_wavnum, spec_gap)): #build the list of wave numbers\n",
    "        wav_num_rev.append(i)\n",
    "#set first col in dataframe as x axis (wavenumber)   \n",
    "spec_sin = pd.DataFrame()\n",
    "spec_sin['wave number / cm^-1'] = wav_num_rev\n",
    "\n",
    "#add y axis (transmitance) to dataframe\n",
    "spec_trans=[] # a list to transport transmitance data\n",
    "spec_trans = ir_spec_raw.iloc[5:,0] #it gets sliced\n",
    "spec_trans = spec_trans.reset_index(drop=True) #it gets reindexed\n",
    "spec_sin['spec1'] = spec_trans\n",
    " \n",
    "\n",
    "#We plot to check it works\n",
    "ydata = spec_sin['spec1']\n",
    "xdata = spec_sin['wave number / cm^-1']\n",
    "\n",
    "# creating graph space for two graphs for now just inverting\n",
    "graph, (plot1, plot2) = plt.subplots(1, 2)\n",
    "\n",
    "# plot1 graph for normal axes\n",
    "plot1.plot(xdata, ydata, label='spec1')\n",
    "plot1.set_title(\"Normal Plot\")\n",
    "\n",
    "# plot2 graph for inverted axes\n",
    "plot2.plot(xdata, ydata, label='spec1')\n",
    "plot2.axis(xmin=1610,xmax=1660) # this selects the displayed range\n",
    "plot2.set_title(\"Inverted Plot\")\n",
    "plot2.invert_xaxis()\n",
    "\n",
    "\n",
    "# display the graph\n",
    "graph.supxlabel(\"wave number / cm^-1\")\n",
    "graph.supylabel(\"transmitance\")\n",
    "graph.tight_layout()\n",
    "plt.show()\n",
    "\n",
    "spec_sin.to_csv(csv_name+\".csv\",index=False)\n",
    "spec_sin_range = spec_sin.iloc[600:660]\n",
    "print(spec_sin_range)\n",
    "print(spec_sin.iloc[634,1])"
   ]
  },
  {
   "cell_type": "code",
   "execution_count": null,
   "id": "5404dce4",
   "metadata": {},
   "outputs": [],
   "source": [
    "ls"
   ]
  },
  {
   "cell_type": "code",
   "execution_count": null,
   "id": "afc9fd51",
   "metadata": {},
   "outputs": [],
   "source": [
    "pwd"
   ]
  },
  {
   "cell_type": "code",
   "execution_count": 342,
   "id": "6ddc14e2",
   "metadata": {},
   "outputs": [
    {
     "name": "stdout",
     "output_type": "stream",
     "text": [
      "1.0007671050667053\n",
      "0.9945927651228076\n",
      "     wave number / cm^-1      water      buffer        RNA  buffer_II  \\\n",
      "0            3995.710016  99.357210  100.250884  99.449744   0.893674   \n",
      "1            3991.986533  99.503426  100.056546  99.334560   0.553120   \n",
      "2            3988.263049  99.649903  100.001845  99.374841   0.351942   \n",
      "3            3984.539566  99.706081  100.082239  99.605234   0.376158   \n",
      "4            3980.816083  99.605651  100.091803  99.664516   0.486151   \n",
      "..                   ...        ...         ...        ...        ...   \n",
      "962           413.719082  50.617030   50.378723  33.771902  -0.238307   \n",
      "963           409.995598  50.933857   52.181971  32.332587   1.248114   \n",
      "964           406.272115  53.679631   54.860353  34.166415   1.180722   \n",
      "965           402.548632  53.593989   54.502858  33.873283   0.908869   \n",
      "966           398.825149  52.556121   55.925496  34.498540   3.369375   \n",
      "\n",
      "        RNA_II  buffer_III    RNA_III  \n",
      "0     0.092534    0.817456   0.629781  \n",
      "1    -0.168866    0.476791   0.369173  \n",
      "2    -0.275062    0.275500   0.263769  \n",
      "3    -0.100848    0.299673   0.438287  \n",
      "4     0.058864    0.409743   0.597455  \n",
      "..         ...         ...        ...  \n",
      "962 -16.845128   -0.277135 -16.571430  \n",
      "963 -18.601270    1.209043 -18.325858  \n",
      "964 -19.513216    1.139544 -19.222957  \n",
      "965 -19.720706    0.867757 -19.430911  \n",
      "966 -18.057581    3.329059 -17.773398  \n",
      "\n",
      "[967 rows x 8 columns]\n"
     ]
    },
    {
     "data": {
      "image/png": "[encoded data removed]",
      "text/plain": [
       "<Figure size 640x480 with 2 Axes>"
      ]
     },
     "metadata": {},
     "output_type": "display_data"
    }
   ],
   "source": [
    "# fourth IR anaysis scipt subtracting a background spectra from a sample spectra... too complicated neaten up\n",
    "\n",
    "def asptodfd(file_loc, file_name):\n",
    "    import os\n",
    "    import pandas as pd\n",
    "    import numpy as np\n",
    "    import matplotlib.pyplot as plt\n",
    "    from scipy.optimize import curve_fit\n",
    "    from numpy import log as ln\n",
    "    \n",
    "    global spec_sin\n",
    "     \n",
    "    ir_spec_raw = pd.read_csv(file_loc + '\\\\' + file_name + '.asp') #spectra name here\n",
    "    \n",
    "    \n",
    "    \n",
    "    # we need th col name as a float?\n",
    "    col_head = list(ir_spec_raw.columns)\n",
    "    num_spec_points = col_head[(0)]\n",
    "\n",
    "    # build the x axis (wavenumbers) from the file format\n",
    "    high_wavnum = ir_spec_raw.iloc[0,0] #highest wavenumber\n",
    "    high_wavnum = float(high_wavnum)\n",
    "    low_wavnum = ir_spec_raw.iloc[1,0] #lowest wavenumber\n",
    "    low_wavnum = float(low_wavnum)\n",
    "    num_spec_points = float(num_spec_points)\n",
    "    spec_gap = ( high_wavnum - low_wavnum ) / num_spec_points #calaculate spectral gap\n",
    "    wav_num = []\n",
    "    wav_nums = np.arange(low_wavnum, high_wavnum, spec_gap)\n",
    "    wav_num_rev=[]\n",
    "\n",
    "    for i in reversed(np.arange(low_wavnum, high_wavnum, spec_gap)): #build the list of wave numbers\n",
    "        wav_num_rev.append(i)\n",
    "    #set first col in dataframe as x axis (wavenumber)   \n",
    "    spec_sin = pd.DataFrame()\n",
    "    spec_sin['wave number / cm^-1'] = wav_num_rev\n",
    "\n",
    "    #add y axis (transmitance) to dataframe\n",
    "    spec_trans=[] # a list to transport transmitance data\n",
    "    spec_trans = ir_spec_raw.iloc[5:,0] #it gets sliced\n",
    "    spec_trans = spec_trans.reset_index(drop=True) #it gets reindexed\n",
    "    spec_sin['spec1'] = spec_trans\n",
    "    return spec_sin\n",
    "\n",
    "asptodfd(\"C:\\\\Users\\\\hwbst6\\\\OneDrive - Sheffield Hallam University\\\\StudentProjects\\\\Student projects 2022_23\\\\MSc\\\\Bhargav\\\\130623\", \"BAS_Water_2023-06-13T15-51-57\")\n",
    "\n",
    "\n",
    "\n",
    "# build multi spec DataFrame and add wave number(xaxis)\n",
    "spec_multi = pd.DataFrame()\n",
    "spec_multi['wave number / cm^-1'] = spec_sin.iloc[0:,0]\n",
    "#print(spec_multi)\n",
    "\n",
    "# add spec 1\n",
    "spec_multi['water'] = spec_sin.iloc[0:,1]\n",
    "#print(spec_multi)\n",
    "\n",
    "asptodfd(\"C:\\\\Users\\\\hwbst6\\\\OneDrive - Sheffield Hallam University\\\\StudentProjects\\\\Student projects 2022_23\\\\MSc\\\\Bhargav\\\\130623\", \"BAS_Buffer_001_2023-06-13T15-54-39\")\n",
    "\n",
    "\n",
    "#print(spec_sin)\n",
    "\n",
    "\n",
    "# add spec 2\n",
    "spec_multi['buffer'] = spec_sin.iloc[0:,1]\n",
    "#print(spec_multi)\n",
    "\n",
    "asptodfd(\"C:\\\\Users\\\\hwbst6\\\\OneDrive - Sheffield Hallam University\\\\StudentProjects\\\\Student projects 2022_23\\\\MSc\\\\Bhargav\\\\130623\", \"BAS_25_001_2023-06-14T09-55-56\")\n",
    "\n",
    "\n",
    "#print(spec_sin)\n",
    "\n",
    "\n",
    "# add spec 3\n",
    "spec_multi['RNA'] = spec_sin.iloc[0:,1]\n",
    "#print(spec_multi)\n",
    "\n",
    "\n",
    "# subtract bacground water buffer\n",
    "spec_multi['buffer_II'] = spec_multi.iloc[0:,2] - spec_multi.iloc[0:,1]\n",
    "#print(spec_multi)\n",
    "\n",
    "# subtract bacground buffer RNA\n",
    "spec_multi['RNA_II'] = spec_multi.iloc[0:,3] - spec_multi.iloc[0:,1]\n",
    "#print(spec_multi)\n",
    "\n",
    "# subtract bacground water buffer second method\n",
    "spec_multi['buffer_III'] = spec_multi.iloc[0:,2] - (spec_multi.iloc[0:,1] * (spec_multi.iloc[634,2] / spec_multi.iloc[634,1]))\n",
    "#print(spec_multi)\n",
    "print(spec_multi.iloc[634,2] / spec_multi.iloc[634,1])\n",
    "\n",
    "# subtract bacground buffer RNA second method\n",
    "spec_multi['RNA_III'] = spec_multi.iloc[0:,3] - (spec_multi.iloc[0:,1] * (spec_multi.iloc[634,3] / spec_multi.iloc[634,1]))\n",
    "print(spec_multi.iloc[634,3] / spec_multi.iloc[634,1])\n",
    "print(spec_multi)\n",
    "\n",
    "#We plot to check it works\n",
    "ydata1 = spec_multi['RNA_II']\n",
    "ydata2 = spec_multi['RNA_III']\n",
    "xdata = spec_multi['wave number / cm^-1']\n",
    "\n",
    "# creating graph space for two graphs for now just inverting\n",
    "graph, (plot1, plot2) = plt.subplots(1, 2)\n",
    "\n",
    "# plot1 graph for normal axes\n",
    "plot1.plot(xdata, ydata2, label='spec1')\n",
    "plot1.set_title(\"RNA minus buffer\")\n",
    "plot1.invert_xaxis()\n",
    "\n",
    "# plot2 graph for inverted axes\n",
    "plot2.plot(xdata, ydata1, label='spec1')\n",
    "plot2.set_title(\"Buffer minus water\")\n",
    "plot2.invert_xaxis()\n",
    "\n",
    "# display the graph\n",
    "graph.supxlabel(\"wave number / cm^-1\")\n",
    "graph.supylabel(\"transmitance\")\n",
    "graph.tight_layout()\n",
    "plt.show()"
   ]
  },
  {
   "cell_type": "code",
   "execution_count": 379,
   "id": "5bf84d57",
   "metadata": {},
   "outputs": [
    {
     "name": "stdout",
     "output_type": "stream",
     "text": [
      "Enter spectra working directory:C:\\\\Users\\\\hwbst6\\\\OneDrive - Sheffield Hallam University\\\\StudentProjects\\\\Student projects 2022_23\\\\MSc\\\\Bhargav\\\\130623\n",
      "Enter spectra *asp file name:BAS_100_001_2023-06-14T09-58-46\n",
      "Enter background *asp file name:BAS_Buffer_001_2023-06-13T15-54-39\n",
      "Enter *.csv outut name:test9\n",
      "     wave number / cm^-1  background    spectra  spectra bg_sub\n",
      "0            3995.710016  100.250884  99.648306        0.602578\n",
      "1            3991.986533  100.056546  99.539681        0.516865\n",
      "2            3988.263049  100.001845  99.469755        0.532090\n",
      "3            3984.539566  100.082239  99.494827        0.587413\n",
      "4            3980.816083  100.091803  99.627842        0.463960\n",
      "..                   ...         ...        ...             ...\n",
      "962           413.719082   50.378723  33.747740       16.630983\n",
      "963           409.995598   52.181971  32.718461       19.463511\n",
      "964           406.272115   54.860353  33.983868       20.876485\n",
      "965           402.548632   54.502858  35.088657       19.414201\n",
      "966           398.825149   55.925496  36.219493       19.706003\n",
      "\n",
      "[967 rows x 4 columns]\n"
     ]
    },
    {
     "data": {
      "image/png": "[encoded data removed]",
      "text/plain": [
       "<Figure size 640x480 with 2 Axes>"
      ]
     },
     "metadata": {},
     "output_type": "display_data"
    }
   ],
   "source": [
    "# fith IR anaysis scipt subtracting a background spectra from a sample spectra with *.csv outnput\n",
    "\n",
    "def asptodfd(file_loc, file_name):\n",
    "    import os\n",
    "    import pandas as pd\n",
    "    import numpy as np\n",
    "    import matplotlib.pyplot as plt\n",
    "    from scipy.optimize import curve_fit\n",
    "    from numpy import log as ln\n",
    "    \n",
    "    global spec_sin\n",
    "    spec_sin = pd.DataFrame()\n",
    "    ir_spec_raw = pd.read_csv(file_loc + '\\\\' + file_name + '.asp') #spectra name here\n",
    "    \n",
    "    # we need th col name as a float?\n",
    "    col_head = list(ir_spec_raw.columns)\n",
    "    num_spec_points = col_head[(0)]\n",
    "\n",
    "    # build the x axis (wavenumbers) from the file format\n",
    "    high_wavnum = ir_spec_raw.iloc[0,0] #highest wavenumber\n",
    "    high_wavnum = float(high_wavnum)\n",
    "    low_wavnum = ir_spec_raw.iloc[1,0] #lowest wavenumber\n",
    "    low_wavnum = float(low_wavnum)\n",
    "    num_spec_points = float(num_spec_points)\n",
    "    spec_gap = ( high_wavnum - low_wavnum ) / num_spec_points #calaculate spectral gap\n",
    "    wav_num = []\n",
    "    wav_nums = np.arange(low_wavnum, high_wavnum, spec_gap)\n",
    "    wav_num_rev=[]\n",
    "\n",
    "    for i in reversed(np.arange(low_wavnum, high_wavnum, spec_gap)): #build the list of wave numbers\n",
    "        wav_num_rev.append(i)\n",
    "    #set first col in dataframe as x axis (wavenumber)   \n",
    "    spec_sin = pd.DataFrame()\n",
    "    spec_sin['wave number / cm^-1'] = wav_num_rev\n",
    "\n",
    "    #add y axis (transmitance) to dataframe\n",
    "    spec_trans=[] # a list to transport transmitance data\n",
    "    spec_trans = ir_spec_raw.iloc[5:,0] #it gets sliced\n",
    "    spec_trans = spec_trans.reset_index(drop=True) #it gets reindexed\n",
    "    spec_sin['spec1'] = spec_trans\n",
    "    return spec_sin\n",
    "\n",
    "\n",
    "def subt001(spec_loc, spec_name, bg_loc, bg_name, csv_name): \n",
    "    import os\n",
    "    import pandas as pd\n",
    "    import numpy as np\n",
    "    import matplotlib.pyplot as plt\n",
    "    from scipy.optimize import curve_fit\n",
    "    from numpy import log as ln\n",
    "    #spec_sin = pd.DataFrame()\n",
    "    global spec_tranf\n",
    "    # loads an IR spectra as *.asp then subtracts a backgroup spectra loaded as *.asp outputting a sligle spectra as a *.csv  \n",
    "\n",
    "    # build transfer spec DataFrame and add wave number(xaxis)\n",
    "    spec_tranf = pd.DataFrame()\n",
    "    \n",
    "    \n",
    "    # add spec background\n",
    "    asptodfd(bg_loc, bg_name)\n",
    "    spec_tranf['wave number / cm^-1'] = spec_sin.iloc[0:,0]\n",
    "    spec_tranf['background'] = spec_sin.iloc[0:,1]\n",
    "    \n",
    "    \n",
    "    # add spec spectra\n",
    "    asptodfd(spec_loc, spec_name)\n",
    "    spec_tranf['spectra'] = spec_sin.iloc[0:,1]\n",
    "    \n",
    "\n",
    "    # subtract bacground water buffer\n",
    "    spec_tranf['spectra bg_sub'] = spec_tranf.iloc[0:,2] - spec_tranf.iloc[0:,1]\n",
    "    print(spec_tranf)\n",
    "    spec_wrt = pd.DataFrame()\n",
    "    spec_wrt['wave number / cm^-1'] = spec_tranf.iloc[0:,0]\n",
    "    spec_wrt['spectra bg_sub'] = spec_tranf.iloc[0:,3]\n",
    "    spec_wrt.to_csv(csv_name+\".csv\",index=False)\n",
    "    \n",
    "    return spec_tranf\n",
    "\n",
    "spec_loc =  input(\"Enter spectra working directory:\") \n",
    "\n",
    "spec_name = input(\"Enter spectra *asp file name:\")\n",
    "\n",
    "bg_loc = spec_loc #input(\"Enter background *.asp location:\") \n",
    "\n",
    "bg_name = input(\"Enter background *asp file name:\")\n",
    "\n",
    "csv_name = input(\"Enter *.csv outut name:\")\n",
    "\n",
    "subt001(spec_loc, spec_name, bg_loc, bg_name, csv_name)\n",
    "\n",
    "\n",
    "\n",
    "# view spectra\n",
    "ydata1 = spec_tranf['spectra']\n",
    "ydata2 = spec_tranf['spectra bg_sub']\n",
    "xdata = spec_tranf['wave number / cm^-1']\n",
    "\n",
    "# creating graph space for two graphs for now just inverting\n",
    "graph, (plot1, plot2) = plt.subplots(1, 2)\n",
    "\n",
    "# plot1 graph for normal axes\n",
    "plot1.plot(xdata, ydata1, label='spec1')\n",
    "plot1.set_title(spec_name)\n",
    "plot1.invert_xaxis()\n",
    "\n",
    "# plot2 graph for inverted axes\n",
    "plot2.plot(xdata, ydata2, label='spec1')\n",
    "plot2.set_title(\"bg subtracted\")\n",
    "plot2.invert_xaxis()\n",
    "\n",
    "# display the graph\n",
    "graph.supxlabel(\"wave number / cm^-1\")\n",
    "graph.supylabel(\"transmitance\")\n",
    "graph.tight_layout()\n",
    "plt.show()"
   ]
  },
  {
   "cell_type": "code",
   "execution_count": 343,
   "id": "a6f6d36d",
   "metadata": {},
   "outputs": [
    {
     "data": {
      "text/plain": [
       "'C:\\\\Users\\\\hwbst6\\\\OneDrive - Sheffield Hallam University\\\\StudentProjects\\\\Student projects 2022_23\\\\MSc\\\\Bhargav\\\\130623'"
      ]
     },
     "execution_count": 343,
     "metadata": {},
     "output_type": "execute_result"
    }
   ],
   "source": [
    "pwd"
   ]
  },
  {
   "cell_type": "code",
   "execution_count": 344,
   "id": "4105ee2c",
   "metadata": {},
   "outputs": [
    {
     "name": "stdout",
     "output_type": "stream",
     "text": [
      " Volume in drive C is Windows\n",
      " Volume Serial Number is 4632-2130\n",
      "\n",
      " Directory of C:\\Users\\hwbst6\\OneDrive - Sheffield Hallam University\\StudentProjects\\Student projects 2022_23\\MSc\\Bhargav\\130623\n",
      "\n",
      "23/06/2023  10:50    <DIR>          .\n",
      "23/06/2023  10:50    <DIR>          ..\n",
      "14/06/2023  09:59            17,358 BAS_100_001_2023-06-14T09-58-46.asp\n",
      "20/06/2023  12:09            35,203 BAS_100_001_2023-06-14T09-58-46.csv\n",
      "14/06/2023  09:57            17,340 BAS_25_001_2023-06-14T09-55-56.asp\n",
      "13/06/2023  15:55            17,357 BAS_Buffer_001_2023-06-13T15-54-39.asp\n",
      "13/06/2023  15:56            17,340 BAS_Buffer_001_2023-06-13T15-56-35.asp\n",
      "19/06/2023  17:51            35,187 'BAS_Water_2023-06-13T15-51-57\n",
      "13/06/2023  15:53            17,342 BAS_Water_2023-06-13T15-51-57.asp\n",
      "19/06/2023  18:12            35,187 BAS_Water_2023-06-13T15-51-57.csv\n",
      "19/06/2023  18:03            35,187 'BAS_Water_2023-06-13T15-51-57.csv\n",
      "29/06/2023  10:57            35,187 smttest.csv\n",
      "23/06/2023  10:47            35,187 smttest23062023.csv\n",
      "19/06/2023  18:31            35,185 test.csv\n",
      "19/06/2023  18:34            35,187 test2.csv\n",
      "19/06/2023  18:38            35,187 water.csv\n",
      "              14 File(s)        403,434 bytes\n",
      "               2 Dir(s)  149,251,592,192 bytes free\n"
     ]
    }
   ],
   "source": [
    "ls\n"
   ]
  },
  {
   "cell_type": "code",
   "execution_count": 364,
   "id": "a7864816",
   "metadata": {},
   "outputs": [
    {
     "name": "stdout",
     "output_type": "stream",
     "text": [
      " Volume in drive C is Windows\n",
      " Volume Serial Number is 4632-2130\n",
      "\n",
      " Directory of C:\\Users\\hwbst6\\OneDrive - Sheffield Hallam University\\StudentProjects\\Student projects 2022_23\\MSc\\Bhargav\\130623\n",
      "\n",
      "29/06/2023  16:03    <DIR>          .\n",
      "29/06/2023  16:03    <DIR>          ..\n",
      "14/06/2023  09:59            17,358 BAS_100_001_2023-06-14T09-58-46.asp\n",
      "20/06/2023  12:09            35,203 BAS_100_001_2023-06-14T09-58-46.csv\n",
      "14/06/2023  09:57            17,340 BAS_25_001_2023-06-14T09-55-56.asp\n",
      "13/06/2023  15:55            17,357 BAS_Buffer_001_2023-06-13T15-54-39.asp\n",
      "13/06/2023  15:56            17,340 BAS_Buffer_001_2023-06-13T15-56-35.asp\n",
      "19/06/2023  17:51            35,187 'BAS_Water_2023-06-13T15-51-57\n",
      "13/06/2023  15:53            17,342 BAS_Water_2023-06-13T15-51-57.asp\n",
      "19/06/2023  18:12            35,187 BAS_Water_2023-06-13T15-51-57.csv\n",
      "19/06/2023  18:03            35,187 'BAS_Water_2023-06-13T15-51-57.csv\n",
      "29/06/2023  16:03            20,117 bgtest.csv\n",
      "29/06/2023  10:57            35,187 smttest.csv\n",
      "23/06/2023  10:47            35,187 smttest23062023.csv\n",
      "19/06/2023  18:31            35,185 test.csv\n",
      "19/06/2023  18:34            35,187 test2.csv\n",
      "19/06/2023  18:38            35,187 water.csv\n",
      "              15 File(s)        423,551 bytes\n",
      "               2 Dir(s)  149,410,340,864 bytes free\n"
     ]
    }
   ],
   "source": [
    "ls"
   ]
  },
  {
   "cell_type": "code",
   "execution_count": 382,
   "id": "a4728ae3",
   "metadata": {},
   "outputs": [
    {
     "name": "stdout",
     "output_type": "stream",
     "text": [
      "Enter spectra working directory:C:\\Users\\hwbst6\\OneDrive - Sheffield Hallam University\\StudentProjects\\Student projects 2022_23\\MSc\\Bhargav\\130623\n",
      "Enter spectra *asp file name:BAS_100_001_2023-06-14T09-58-46\n",
      "Enter background *asp file name:BAS_Buffer_001_2023-06-13T15-54-39\n",
      "Enter *.csv outut name:test10\n",
      "     wave number / cm^-1  background    spectra  spectra bg_sub\n",
      "0            3995.710016  100.250884  99.648306        0.602578\n",
      "1            3991.986533  100.056546  99.539681        0.516865\n",
      "2            3988.263049  100.001845  99.469755        0.532090\n",
      "3            3984.539566  100.082239  99.494827        0.587413\n",
      "4            3980.816083  100.091803  99.627842        0.463960\n",
      "..                   ...         ...        ...             ...\n",
      "962           413.719082   50.378723  33.747740       16.630983\n",
      "963           409.995598   52.181971  32.718461       19.463511\n",
      "964           406.272115   54.860353  33.983868       20.876485\n",
      "965           402.548632   54.502858  35.088657       19.414201\n",
      "966           398.825149   55.925496  36.219493       19.706003\n",
      "\n",
      "[967 rows x 4 columns]\n"
     ]
    },
    {
     "data": {
      "image/png": "[encoded data removed]",
      "text/plain": [
       "<Figure size 640x480 with 2 Axes>"
      ]
     },
     "metadata": {},
     "output_type": "display_data"
    }
   ],
   "source": [
    "# sixth IR anaysis scipt subtracting a normalised background spectra from a sample spectra with *.csv outnput\n",
    "\n",
    "def asptodfd(file_loc, file_name):\n",
    "    import os\n",
    "    import pandas as pd\n",
    "    import numpy as np\n",
    "    import matplotlib.pyplot as plt\n",
    "    from scipy.optimize import curve_fit\n",
    "    from numpy import log as ln\n",
    "    \n",
    "    global spec_sin\n",
    "    spec_sin = pd.DataFrame()\n",
    "    ir_spec_raw = pd.read_csv(file_loc + '\\\\' + file_name + '.asp') #spectra name here\n",
    "    \n",
    "    # we need th col name as a float?\n",
    "    col_head = list(ir_spec_raw.columns)\n",
    "    num_spec_points = col_head[(0)]\n",
    "\n",
    "    # build the x axis (wavenumbers) from the file format\n",
    "    high_wavnum = ir_spec_raw.iloc[0,0] #highest wavenumber\n",
    "    high_wavnum = float(high_wavnum)\n",
    "    low_wavnum = ir_spec_raw.iloc[1,0] #lowest wavenumber\n",
    "    low_wavnum = float(low_wavnum)\n",
    "    num_spec_points = float(num_spec_points)\n",
    "    spec_gap = ( high_wavnum - low_wavnum ) / num_spec_points #calaculate spectral gap\n",
    "    wav_num = []\n",
    "    wav_nums = np.arange(low_wavnum, high_wavnum, spec_gap)\n",
    "    wav_num_rev=[]\n",
    "\n",
    "    for i in reversed(np.arange(low_wavnum, high_wavnum, spec_gap)): #build the list of wave numbers\n",
    "        wav_num_rev.append(i)\n",
    "    #set first col in dataframe as x axis (wavenumber)   \n",
    "    spec_sin = pd.DataFrame()\n",
    "    spec_sin['wave number / cm^-1'] = wav_num_rev\n",
    "\n",
    "    #add y axis (transmitance) to dataframe\n",
    "    spec_trans=[] # a list to transport transmitance data\n",
    "    spec_trans = ir_spec_raw.iloc[5:,0] #it gets sliced\n",
    "    spec_trans = spec_trans.reset_index(drop=True) #it gets reindexed\n",
    "    spec_sin['spec1'] = spec_trans\n",
    "    return spec_sin\n",
    "\n",
    "\n",
    "def subt002(spec_loc, spec_name, bg_loc, bg_name, csv_name): \n",
    "    import os\n",
    "    import pandas as pd\n",
    "    import numpy as np\n",
    "    import matplotlib.pyplot as plt\n",
    "    from scipy.optimize import curve_fit\n",
    "    from numpy import log as ln\n",
    "    #spec_sin = pd.DataFrame()\n",
    "    global spec_tranf\n",
    "    # loads an IR spectra as *.asp then subtracts a backgroup spectra loaded as *.asp outputting a sligle spectra as a *.csv  \n",
    "\n",
    "    # build transfer spec DataFrame and add wave number(xaxis)\n",
    "    spec_tranf = pd.DataFrame()\n",
    "    \n",
    "    \n",
    "    # add spec background\n",
    "    asptodfd(bg_loc, bg_name)\n",
    "    spec_tranf['wave number / cm^-1'] = spec_sin.iloc[0:,0]\n",
    "    spec_tranf['background'] = spec_sin.iloc[0:,1]\n",
    "    \n",
    "    \n",
    "    # add spec spectra\n",
    "    asptodfd(spec_loc, spec_name)\n",
    "    spec_tranf['spectra'] = spec_sin.iloc[0:,1]\n",
    "    \n",
    "\n",
    "    # subtract bacground water buffer\n",
    "    spec_tranf['spectra bg_sub'] = 100 - (spec_tranf.iloc[0:,2] - (spec_tranf.iloc[0:,1] * (spec_tranf.iloc[634,2] / spec_tranf.iloc[634,1])))\n",
    "    print(spec_tranf)\n",
    "    spec_wrt = pd.DataFrame()\n",
    "    spec_wrt['wave number / cm^-1'] = spec_tranf.iloc[0:,0]\n",
    "    spec_wrt['spectra bg_sub'] = spec_tranf.iloc[0:,3]\n",
    "    spec_wrt.to_csv(csv_name+\".csv\",index=False)\n",
    "    \n",
    "    return spec_tranf\n",
    "\n",
    "spec_loc =  input(\"Enter spectra working directory:\") \n",
    "\n",
    "spec_name = input(\"Enter spectra *asp file name:\")\n",
    "\n",
    "bg_loc = spec_loc #input(\"Enter background *.asp location:\") \n",
    "\n",
    "bg_name = input(\"Enter background *asp file name:\")\n",
    "\n",
    "csv_name = input(\"Enter *.csv outut name:\")\n",
    "\n",
    "subt001(spec_loc, spec_name, bg_loc, bg_name, csv_name)\n",
    "\n",
    "\n",
    "\n",
    "# view spectra\n",
    "ydata1 = spec_tranf['spectra']\n",
    "ydata2 = spec_tranf['spectra bg_sub']\n",
    "xdata = spec_tranf['wave number / cm^-1']\n",
    "\n",
    "# creating graph space for two graphs for now just inverting\n",
    "graph, (plot1, plot2) = plt.subplots(1, 2)\n",
    "\n",
    "# plot1 graph for normal axes\n",
    "plot1.plot(xdata, ydata1, label='spec1')\n",
    "plot1.set_title(spec_name)\n",
    "plot1.invert_xaxis()\n",
    "\n",
    "# plot2 graph for inverted axes\n",
    "plot2.plot(xdata, ydata2, label='spec1')\n",
    "plot2.set_title(\"bg subtracted\")\n",
    "plot2.invert_xaxis()\n",
    "\n",
    "# display the graph\n",
    "graph.supxlabel(\"wave number / cm^-1\")\n",
    "graph.supylabel(\"transmitance\")\n",
    "graph.tight_layout()\n",
    "plt.show()"
   ]
  },
  {
   "cell_type": "code",
   "execution_count": 385,
   "id": "4aaa4544",
   "metadata": {},
   "outputs": [],
   "source": [
    "from tkinter import filedialog as fd"
   ]
  },
  {
   "cell_type": "code",
   "execution_count": 393,
   "id": "7045a7d0",
   "metadata": {},
   "outputs": [
    {
     "name": "stdout",
     "output_type": "stream",
     "text": [
      "C:/Python32/LICENSE.txt\n"
     ]
    }
   ],
   "source": [
    "import tkinter as tk\n",
    "from tkinter import filedialog as fd\n",
    "\n",
    "def select_file():\n",
    "    filetypes = (\n",
    "        ('text files', '*.txt'),\n",
    "        ('All files', '*.*')\n",
    "    )\n",
    "\n",
    "    filename = fd.askopenfilename(\n",
    "        title='Open a file',\n",
    "        initialdir='/',\n",
    "        filetypes=filetypes)\n",
    "\n",
    "    showinfo(\n",
    "        title='Selected File',\n",
    "        message=filename\n",
    "    )\n",
    "    \n",
    "select_file()   \n",
    "\n",
    "file_ns = list()\n",
    "\n",
    "file_ns = fd.askopenfilename()\n",
    "print(file_ns)"
   ]
  },
  {
   "cell_type": "code",
   "execution_count": 402,
   "id": "04aacbfb",
   "metadata": {},
   "outputs": [
    {
     "name": "stdout",
     "output_type": "stream",
     "text": [
      "('C:/Users/hwbst6/OneDrive - Sheffield Hallam University/StudentProjects/Student projects 2022_23/MSc/Bhargav/130623/BAS_25_001_2023-06-14T09-55-56.asp', 'C:/Users/hwbst6/OneDrive - Sheffield Hallam University/StudentProjects/Student projects 2022_23/MSc/Bhargav/130623/BAS_100_001_2023-06-14T09-58-46.asp', 'C:/Users/hwbst6/OneDrive - Sheffield Hallam University/StudentProjects/Student projects 2022_23/MSc/Bhargav/130623/BAS_Buffer_001_2023-06-13T15-54-39.asp', 'C:/Users/hwbst6/OneDrive - Sheffield Hallam University/StudentProjects/Student projects 2022_23/MSc/Bhargav/130623/BAS_Buffer_001_2023-06-13T15-56-35.asp', 'C:/Users/hwbst6/OneDrive - Sheffield Hallam University/StudentProjects/Student projects 2022_23/MSc/Bhargav/130623/BAS_Water_2023-06-13T15-51-57.asp')\n"
     ]
    }
   ],
   "source": [
    "import tkinter as tk\n",
    "from tkinter import ttk\n",
    "from tkinter import filedialog as fd\n",
    "from tkinter.messagebox import showinfo\n",
    "\n",
    "# create the root window\n",
    "root = tk.Tk()\n",
    "root.title('Tkinter File Dialog')\n",
    "root.resizable(False, False)\n",
    "root.geometry('300x150')\n",
    "\n",
    "\n",
    "def select_files():\n",
    "    global filenames\n",
    "    filetypes = (\n",
    "        ('asp files', '*.asp'),\n",
    "        ('All files', '*.*')\n",
    "    )\n",
    "\n",
    "    filenames = fd.askopenfilenames(\n",
    "        title='Open files',\n",
    "        initialdir='/',\n",
    "        filetypes=filetypes)\n",
    "\n",
    "    showinfo(\n",
    "        title='Selected Files',\n",
    "        message=filenames\n",
    "    )\n",
    "\n",
    "\n",
    "# open button\n",
    "open_button = ttk.Button(\n",
    "    root,\n",
    "    text='Open Files',\n",
    "    command=select_files\n",
    ")\n",
    "\n",
    "open_button.pack(expand=True)\n",
    "\n",
    "root.mainloop()\n",
    "\n",
    "print(filenames)"
   ]
  },
  {
   "cell_type": "code",
   "execution_count": 6,
   "id": "551e66c1",
   "metadata": {},
   "outputs": [
    {
     "ename": "KeyboardInterrupt",
     "evalue": "Interrupted by user",
     "output_type": "error",
     "traceback": [
      "\u001b[1;31m---------------------------------------------------------------------------\u001b[0m",
      "\u001b[1;31mKeyboardInterrupt\u001b[0m                         Traceback (most recent call last)",
      "\u001b[1;32m~\\AppData\\Local\\Temp\\ipykernel_7704\\384985295.py\u001b[0m in \u001b[0;36m<module>\u001b[1;34m\u001b[0m\n\u001b[0;32m     94\u001b[0m     \u001b[0mx\u001b[0m \u001b[1;33m=\u001b[0m \u001b[0mx\u001b[0m \u001b[1;33m+\u001b[0m \u001b[1;36m1\u001b[0m\u001b[1;33m\u001b[0m\u001b[1;33m\u001b[0m\u001b[0m\n\u001b[0;32m     95\u001b[0m \u001b[1;31m#output\u001b[0m\u001b[1;33m\u001b[0m\u001b[1;33m\u001b[0m\u001b[0m\n\u001b[1;32m---> 96\u001b[1;33m \u001b[0mcsv_name\u001b[0m \u001b[1;33m=\u001b[0m \u001b[0minput\u001b[0m\u001b[1;33m(\u001b[0m\u001b[1;34m\"Enter *.csv outut name:\"\u001b[0m\u001b[1;33m)\u001b[0m\u001b[1;33m\u001b[0m\u001b[1;33m\u001b[0m\u001b[0m\n\u001b[0m\u001b[0;32m     97\u001b[0m \u001b[0mspec_multi\u001b[0m\u001b[1;33m.\u001b[0m\u001b[0mto_csv\u001b[0m\u001b[1;33m(\u001b[0m\u001b[0mcsv_name\u001b[0m\u001b[1;33m+\u001b[0m\u001b[1;34m\".csv\"\u001b[0m\u001b[1;33m,\u001b[0m\u001b[0mindex\u001b[0m\u001b[1;33m=\u001b[0m\u001b[1;32mFalse\u001b[0m\u001b[1;33m)\u001b[0m\u001b[1;33m\u001b[0m\u001b[1;33m\u001b[0m\u001b[0m\n",
      "\u001b[1;32m~\\Anaconda3\\lib\\site-packages\\ipykernel\\kernelbase.py\u001b[0m in \u001b[0;36mraw_input\u001b[1;34m(self, prompt)\u001b[0m\n\u001b[0;32m   1175\u001b[0m                 \u001b[1;34m\"raw_input was called, but this frontend does not support input requests.\"\u001b[0m\u001b[1;33m\u001b[0m\u001b[1;33m\u001b[0m\u001b[0m\n\u001b[0;32m   1176\u001b[0m             )\n\u001b[1;32m-> 1177\u001b[1;33m         return self._input_request(\n\u001b[0m\u001b[0;32m   1178\u001b[0m             \u001b[0mstr\u001b[0m\u001b[1;33m(\u001b[0m\u001b[0mprompt\u001b[0m\u001b[1;33m)\u001b[0m\u001b[1;33m,\u001b[0m\u001b[1;33m\u001b[0m\u001b[1;33m\u001b[0m\u001b[0m\n\u001b[0;32m   1179\u001b[0m             \u001b[0mself\u001b[0m\u001b[1;33m.\u001b[0m\u001b[0m_parent_ident\u001b[0m\u001b[1;33m[\u001b[0m\u001b[1;34m\"shell\"\u001b[0m\u001b[1;33m]\u001b[0m\u001b[1;33m,\u001b[0m\u001b[1;33m\u001b[0m\u001b[1;33m\u001b[0m\u001b[0m\n",
      "\u001b[1;32m~\\Anaconda3\\lib\\site-packages\\ipykernel\\kernelbase.py\u001b[0m in \u001b[0;36m_input_request\u001b[1;34m(self, prompt, ident, parent, password)\u001b[0m\n\u001b[0;32m   1217\u001b[0m             \u001b[1;32mexcept\u001b[0m \u001b[0mKeyboardInterrupt\u001b[0m\u001b[1;33m:\u001b[0m\u001b[1;33m\u001b[0m\u001b[1;33m\u001b[0m\u001b[0m\n\u001b[0;32m   1218\u001b[0m                 \u001b[1;31m# re-raise KeyboardInterrupt, to truncate traceback\u001b[0m\u001b[1;33m\u001b[0m\u001b[1;33m\u001b[0m\u001b[0m\n\u001b[1;32m-> 1219\u001b[1;33m                 \u001b[1;32mraise\u001b[0m \u001b[0mKeyboardInterrupt\u001b[0m\u001b[1;33m(\u001b[0m\u001b[1;34m\"Interrupted by user\"\u001b[0m\u001b[1;33m)\u001b[0m \u001b[1;32mfrom\u001b[0m \u001b[1;32mNone\u001b[0m\u001b[1;33m\u001b[0m\u001b[1;33m\u001b[0m\u001b[0m\n\u001b[0m\u001b[0;32m   1220\u001b[0m             \u001b[1;32mexcept\u001b[0m \u001b[0mException\u001b[0m\u001b[1;33m:\u001b[0m\u001b[1;33m\u001b[0m\u001b[1;33m\u001b[0m\u001b[0m\n\u001b[0;32m   1221\u001b[0m                 \u001b[0mself\u001b[0m\u001b[1;33m.\u001b[0m\u001b[0mlog\u001b[0m\u001b[1;33m.\u001b[0m\u001b[0mwarning\u001b[0m\u001b[1;33m(\u001b[0m\u001b[1;34m\"Invalid Message:\"\u001b[0m\u001b[1;33m,\u001b[0m \u001b[0mexc_info\u001b[0m\u001b[1;33m=\u001b[0m\u001b[1;32mTrue\u001b[0m\u001b[1;33m)\u001b[0m\u001b[1;33m\u001b[0m\u001b[1;33m\u001b[0m\u001b[0m\n",
      "\u001b[1;31mKeyboardInterrupt\u001b[0m: Interrupted by user"
     ]
    }
   ],
   "source": [
    "import os\n",
    "import pandas as pd\n",
    "import matplotlib.pyplot as plt #do we need that\n",
    "import tkinter as tk\n",
    "from tkinter import ttk\n",
    "from tkinter import filedialog as fd\n",
    "from tkinter.messagebox import showinfo\n",
    "\n",
    "# create the root window\n",
    "root = tk.Tk()\n",
    "root.title('Tkinter File Dialog')\n",
    "root.resizable(False, False)\n",
    "root.geometry('300x150')\n",
    "\n",
    "# file opening window\n",
    "def select_files():\n",
    "    global filenames\n",
    "    filetypes = (\n",
    "        ('asp files', '*.asp'),\n",
    "        ('All files', '*.*')\n",
    "    )\n",
    "\n",
    "    filenames = fd.askopenfilenames(\n",
    "        title='Open files',\n",
    "        initialdir='/',\n",
    "        filetypes=filetypes)\n",
    "\n",
    "    showinfo(\n",
    "        title='Selected Files',\n",
    "        message=filenames\n",
    "    )\n",
    "\n",
    "\n",
    "# open button\n",
    "open_button = ttk.Button(\n",
    "    root,\n",
    "    text='Open Files',\n",
    "    command=select_files\n",
    ")\n",
    "\n",
    "open_button.pack(expand=True)\n",
    "\n",
    "root.mainloop()\n",
    "\n",
    "# spec opening function\n",
    "def asptodfd(file_n):    \n",
    "    global spec_sin\n",
    "    spec_sin = pd.DataFrame()\n",
    "    ir_spec_raw = pd.read_csv(file_n) #spectra name here\n",
    "    \n",
    "    # we need th col name as a float?\n",
    "    col_head = list(ir_spec_raw.columns)\n",
    "    num_spec_points = col_head[(0)]\n",
    "\n",
    "    # build the x axis (wavenumbers) from the file format\n",
    "    high_wavnum = ir_spec_raw.iloc[0,0] #highest wavenumber\n",
    "    high_wavnum = float(high_wavnum)\n",
    "    low_wavnum = ir_spec_raw.iloc[1,0] #lowest wavenumber\n",
    "    low_wavnum = float(low_wavnum)\n",
    "    num_spec_points = float(num_spec_points)\n",
    "    spec_gap = ( high_wavnum - low_wavnum ) / num_spec_points #calaculate spectral gap\n",
    "    wav_num = []\n",
    "    wav_nums = np.arange(low_wavnum, high_wavnum, spec_gap)\n",
    "    wav_num_rev=[]\n",
    "\n",
    "    for i in reversed(np.arange(low_wavnum, high_wavnum, spec_gap)): #build the list of wave numbers\n",
    "        wav_num_rev.append(i)\n",
    "    #set first col in dataframe as x axis (wavenumber)   \n",
    "    spec_sin = pd.DataFrame()\n",
    "    spec_sin['wave number / cm^-1'] = wav_num_rev\n",
    "\n",
    "    #add y axis (transmitance) to dataframe\n",
    "    spec_trans=[] # a list to transport transmitance data\n",
    "    spec_trans = ir_spec_raw.iloc[5:,0] #it gets sliced\n",
    "    spec_trans = spec_trans.reset_index(drop=True) #it gets reindexed\n",
    "    spec_sin['spec1'] = spec_trans\n",
    "    return spec_sin\n",
    "\n",
    "# load first spectra \n",
    "asptodfd('C:/Users/hwbst6/OneDrive - Sheffield Hallam University/StudentProjects/Student projects 2022_23/MSc/Bhargav/130623/BAS_25_001_2023-06-14T09-55-56.asp')\n",
    "\n",
    "# build multi spec DataFrame and add wave number(xaxis)\n",
    "# move first spectra both wavenumber and transmitance\n",
    "spec_multi = pd.DataFrame()\n",
    "spec_multi['wave number / cm^-1'] = spec_sin.iloc[0:,0]\n",
    "spec_multi['spec 1'] = spec_sin.iloc[0:,1]\n",
    "#print(spec_multi)\n",
    "\n",
    "# add spec z\n",
    "x = 1\n",
    "for z in filenames:\n",
    "    asptodfd(z)\n",
    "    spec_multi['spec' + str(x)] = spec_sin.iloc[0:,1]\n",
    "    x = x + 1\n",
    "#output\n",
    "csv_name = input(\"Enter *.csv outut name:\")\n",
    "spec_multi.to_csv(csv_name+\".csv\",index=False)\n"
   ]
  },
  {
   "cell_type": "code",
   "execution_count": 419,
   "id": "ef5659ae",
   "metadata": {},
   "outputs": [
    {
     "name": "stdout",
     "output_type": "stream",
     "text": [
      "5\n",
      "C:/Users/hwbst6/OneDrive - Sheffield Hallam University/StudentProjects/Student projects 2022_23/MSc/Bhargav/130623/BAS_100_001_2023-06-14T09-58-46.asp\n"
     ]
    }
   ],
   "source": [
    "print(len(filenames))\n",
    "print(filenames[1])"
   ]
  },
  {
   "cell_type": "code",
   "execution_count": 424,
   "id": "b682e48a",
   "metadata": {},
   "outputs": [
    {
     "data": {
      "text/plain": [
       "'C:\\\\Users\\\\hwbst6\\\\OneDrive - Sheffield Hallam University\\\\StudentProjects\\\\Student projects 2022_23\\\\MSc\\\\Bhargav\\\\130623'"
      ]
     },
     "execution_count": 424,
     "metadata": {},
     "output_type": "execute_result"
    }
   ],
   "source": [
    "pwd"
   ]
  },
  {
   "cell_type": "code",
   "execution_count": 32,
   "id": "52e3cac6",
   "metadata": {},
   "outputs": [
    {
     "data": {
      "image/png": "[encoded data removed]",
      "text/plain": [
       "<Figure size 640x480 with 1 Axes>"
      ]
     },
     "metadata": {},
     "output_type": "display_data"
    },
    {
     "data": {
      "text/html": [
       "<div>\n",
       "<style scoped>\n",
       "    .dataframe tbody tr th:only-of-type {\n",
       "        vertical-align: middle;\n",
       "    }\n",
       "\n",
       "    .dataframe tbody tr th {\n",
       "        vertical-align: top;\n",
       "    }\n",
       "\n",
       "    .dataframe thead th {\n",
       "        text-align: right;\n",
       "    }\n",
       "</style>\n",
       "<table border=\"1\" class=\"dataframe\">\n",
       "  <thead>\n",
       "    <tr style=\"text-align: right;\">\n",
       "      <th></th>\n",
       "      <th>3995.710016</th>\n",
       "      <th>3991.986533</th>\n",
       "      <th>3988.263049</th>\n",
       "      <th>3984.539566</th>\n",
       "      <th>3980.816083</th>\n",
       "      <th>3977.092600</th>\n",
       "      <th>3973.369116</th>\n",
       "      <th>3969.645633</th>\n",
       "      <th>3965.922150</th>\n",
       "      <th>3962.198666</th>\n",
       "      <th>...</th>\n",
       "      <th>432.336498</th>\n",
       "      <th>428.613015</th>\n",
       "      <th>424.889532</th>\n",
       "      <th>421.166048</th>\n",
       "      <th>417.442565</th>\n",
       "      <th>413.719082</th>\n",
       "      <th>409.995598</th>\n",
       "      <th>406.272115</th>\n",
       "      <th>402.548632</th>\n",
       "      <th>398.825149</th>\n",
       "    </tr>\n",
       "  </thead>\n",
       "  <tbody>\n",
       "    <tr>\n",
       "      <th>1</th>\n",
       "      <td>99.35721</td>\n",
       "      <td>99.503426</td>\n",
       "      <td>99.649903</td>\n",
       "      <td>99.706081</td>\n",
       "      <td>99.605651</td>\n",
       "      <td>99.560564</td>\n",
       "      <td>99.442306</td>\n",
       "      <td>99.398</td>\n",
       "      <td>99.622526</td>\n",
       "      <td>99.761646</td>\n",
       "      <td>...</td>\n",
       "      <td>44.247989</td>\n",
       "      <td>44.514347</td>\n",
       "      <td>44.403978</td>\n",
       "      <td>46.613216</td>\n",
       "      <td>49.078375</td>\n",
       "      <td>50.61703</td>\n",
       "      <td>50.933857</td>\n",
       "      <td>53.679631</td>\n",
       "      <td>53.593989</td>\n",
       "      <td>52.556121</td>\n",
       "    </tr>\n",
       "  </tbody>\n",
       "</table>\n",
       "<p>1 rows × 967 columns</p>\n",
       "</div>"
      ],
      "text/plain": [
       "   3995.710016  3991.986533  3988.263049  3984.539566  3980.816083  \\\n",
       "1     99.35721    99.503426    99.649903    99.706081    99.605651   \n",
       "\n",
       "   3977.092600  3973.369116  3969.645633  3965.922150  3962.198666  ...  \\\n",
       "1    99.560564    99.442306       99.398    99.622526    99.761646  ...   \n",
       "\n",
       "   432.336498   428.613015   424.889532   421.166048   417.442565   \\\n",
       "1    44.247989    44.514347    44.403978    46.613216    49.078375   \n",
       "\n",
       "   413.719082   409.995598   406.272115   402.548632   398.825149   \n",
       "1     50.61703    50.933857    53.679631    53.593989    52.556121  \n",
       "\n",
       "[1 rows x 967 columns]"
      ]
     },
     "execution_count": 32,
     "metadata": {},
     "output_type": "execute_result"
    }
   ],
   "source": [
    "# script that bg subtracts ML data sets, these are transposed\n",
    "\n",
    "import os\n",
    "import pandas as pd\n",
    "import numpy as np\n",
    "import matplotlib.pyplot as plt\n",
    "from scipy.optimize import curve_fit\n",
    "from numpy import log as ln\n",
    "\n",
    "#function that converts *.asp to *.csv\n",
    "def asptodfd(file_loc, file_name):\n",
    "    import os\n",
    "    import pandas as pd\n",
    "    import numpy as np\n",
    "    import matplotlib.pyplot as plt\n",
    "    from scipy.optimize import curve_fit\n",
    "    from numpy import log as ln\n",
    "    \n",
    "    global spec_sin\n",
    "    spec_sin = pd.DataFrame()\n",
    "    ir_spec_raw = pd.read_csv(file_loc + '\\\\' + file_name + '.asp') #spectra name here\n",
    "    \n",
    "    # we need th col name as a float?\n",
    "    col_head = list(ir_spec_raw.columns)\n",
    "    num_spec_points = col_head[(0)]\n",
    "\n",
    "    # build the x axis (wavenumbers) from the file format\n",
    "    high_wavnum = ir_spec_raw.iloc[0,0] #highest wavenumber\n",
    "    high_wavnum = float(high_wavnum)\n",
    "    low_wavnum = ir_spec_raw.iloc[1,0] #lowest wavenumber\n",
    "    low_wavnum = float(low_wavnum)\n",
    "    num_spec_points = float(num_spec_points)\n",
    "    spec_gap = ( high_wavnum - low_wavnum ) / num_spec_points #calaculate spectral gap\n",
    "    wav_num = []\n",
    "    wav_nums = np.arange(low_wavnum, high_wavnum, spec_gap)\n",
    "    wav_num_rev=[]\n",
    "\n",
    "    for i in reversed(np.arange(low_wavnum, high_wavnum, spec_gap)): #build the list of wave numbers\n",
    "        wav_num_rev.append(i)\n",
    "    #set first col in dataframe as x axis (wavenumber)   \n",
    "    spec_sin = pd.DataFrame()\n",
    "    spec_sin['wave number / cm^-1'] = wav_num_rev\n",
    "\n",
    "    #add y axis (transmitance) to dataframe\n",
    "    spec_trans=[] # a list to transport transmitance data\n",
    "    spec_trans = ir_spec_raw.iloc[5:,0] #it gets sliced\n",
    "    spec_trans = spec_trans.reset_index(drop=True) #it gets reindexed\n",
    "    spec_sin['spec1'] = spec_trans\n",
    "    return spec_sin\n",
    "\n",
    "asptodfd(\"C:\\\\Users\\\\hwbst6\\\\OneDrive - Sheffield Hallam University\\\\StudentProjects\\\\Student projects 2022_23\\\\MSc\\\\Bhargav\\\\130623\", \"BAS_Water_2023-06-13T15-51-57\")\n",
    "\n",
    "# view spectra\n",
    "ydata1 = spec_sin['spec1']\n",
    "xdata = spec_sin['wave number / cm^-1']\n",
    "\n",
    "# display the graph\n",
    "plt.plot(xdata, ydata1)\n",
    "plot1 = plt.gca()\n",
    "plot1.invert_xaxis()\n",
    "plt.title(\"background\")\n",
    "plt.show()\n",
    "\n",
    "# \n",
    "bg = pd.DataFrame.transpose(spec_sin)\n",
    "\n",
    "bg.rename(columns=bg.iloc[0,0:], inplace=True) # set row 0 as col titles\n",
    "bg = bg.reset_index(drop=True)\n",
    "bg = pd.DataFrame.drop(bg, axis=0, index=0)\n",
    "#bg = pd.DataFrame.drop(bg, axis=0, index=0)\n",
    "bg"
   ]
  },
  {
   "cell_type": "code",
   "execution_count": 1,
   "id": "a1cc8d24",
   "metadata": {},
   "outputs": [
    {
     "data": {
      "text/plain": [
       "'C:\\\\Users\\\\hwbst6\\\\OneDrive - Sheffield Hallam University\\\\StudentProjects\\\\Student projects 2022_23\\\\MSc\\\\Bhargav\\\\140623'"
      ]
     },
     "execution_count": 1,
     "metadata": {},
     "output_type": "execute_result"
    }
   ],
   "source": [
    "pwd"
   ]
  },
  {
   "cell_type": "code",
   "execution_count": 3,
   "id": "1b0262e5",
   "metadata": {},
   "outputs": [
    {
     "name": "stdout",
     "output_type": "stream",
     "text": [
      "C:\\Users\\hwbst6\\OneDrive - Sheffield Hallam University\\StudentProjects\\Student projects 2022_23\\MSc\\Bhargav\n"
     ]
    }
   ],
   "source": [
    "cd .."
   ]
  },
  {
   "cell_type": "code",
   "execution_count": 4,
   "id": "04a1b40e",
   "metadata": {},
   "outputs": [
    {
     "name": "stdout",
     "output_type": "stream",
     "text": [
      " Volume in drive C is Windows\n",
      " Volume Serial Number is 4632-2130\n",
      "\n",
      " Directory of C:\\Users\\hwbst6\\OneDrive - Sheffield Hallam University\\StudentProjects\\Student projects 2022_23\\MSc\\Bhargav\n",
      "\n",
      "18/07/2023  13:10    <DIR>          .\n",
      "18/07/2023  13:10    <DIR>          ..\n",
      "04/07/2023  10:52    <DIR>          04072023\n",
      "07/07/2023  15:53    <DIR>          130623\n",
      "19/07/2023  12:33    <DIR>          140623\n",
      "28/06/2023  13:22    <DIR>          28062023\n",
      "20/06/2023  14:53           847,982 An auto-adaptive background subtraction method for Raman spectra.pdf\n",
      "05/06/2023  23:37           519,966 Bhargav Researchproject RA form Jan 2019 (003).docx\n",
      "12/06/2023  14:17           529,432 Bhargav Sardhara RA MSc-ST-54_SMT.docx\n",
      "18/07/2023  12:16         1,474,809 RNAIR23Train_002.csv\n",
      "               4 File(s)      3,372,189 bytes\n",
      "               6 Dir(s)  141,347,213,312 bytes free\n"
     ]
    }
   ],
   "source": [
    "ls"
   ]
  },
  {
   "cell_type": "code",
   "execution_count": 5,
   "id": "619fd3d3",
   "metadata": {},
   "outputs": [
    {
     "name": "stdout",
     "output_type": "stream",
     "text": [
      "C:\\Users\\hwbst6\\OneDrive - Sheffield Hallam University\\StudentProjects\\Student projects 2022_23\\MSc\\Bhargav\\130623\n"
     ]
    }
   ],
   "source": [
    "cd 130623"
   ]
  },
  {
   "cell_type": "code",
   "execution_count": 6,
   "id": "9c5960ce",
   "metadata": {},
   "outputs": [
    {
     "name": "stdout",
     "output_type": "stream",
     "text": [
      " Volume in drive C is Windows\n",
      " Volume Serial Number is 4632-2130\n",
      "\n",
      " Directory of C:\\Users\\hwbst6\\OneDrive - Sheffield Hallam University\\StudentProjects\\Student projects 2022_23\\MSc\\Bhargav\\130623\n",
      "\n",
      "07/07/2023  15:53    <DIR>          .\n",
      "07/07/2023  15:53    <DIR>          ..\n",
      "14/06/2023  09:59            17,358 BAS_100_001_2023-06-14T09-58-46.asp\n",
      "20/06/2023  12:09            35,203 BAS_100_001_2023-06-14T09-58-46.csv\n",
      "14/06/2023  09:57            17,340 BAS_25_001_2023-06-14T09-55-56.asp\n",
      "13/06/2023  15:55            17,357 BAS_Buffer_001_2023-06-13T15-54-39.asp\n",
      "13/06/2023  15:56            17,340 BAS_Buffer_001_2023-06-13T15-56-35.asp\n",
      "19/06/2023  17:51            35,187 'BAS_Water_2023-06-13T15-51-57\n",
      "13/06/2023  15:53            17,342 BAS_Water_2023-06-13T15-51-57.asp\n",
      "19/06/2023  18:12            35,187 BAS_Water_2023-06-13T15-51-57.csv\n",
      "19/06/2023  18:03            35,187 'BAS_Water_2023-06-13T15-51-57.csv\n",
      "29/06/2023  16:05            38,002 bgtest.csv\n",
      "29/06/2023  16:23            37,051 bgtest2.csv\n",
      "29/06/2023  16:27            37,051 bgtest3.csv\n",
      "29/06/2023  10:57            35,187 smttest.csv\n",
      "23/06/2023  10:47            35,187 smttest23062023.csv\n",
      "29/06/2023  16:31            37,982 test 4.csv\n",
      "19/06/2023  18:31            35,185 test.csv\n",
      "29/06/2023  16:45            37,061 test10.csv\n",
      "19/06/2023  18:34            35,187 test2.csv\n",
      "29/06/2023  16:39            37,061 test5.csv\n",
      "29/06/2023  16:29            37,994 test6.csv\n",
      "29/06/2023  16:33            38,019 test7.csv\n",
      "29/06/2023  16:42            37,061 test9.csv\n",
      "07/07/2023  15:40           116,858 testx.csv\n",
      "07/07/2023  15:53           100,529 testy.csv\n",
      "19/06/2023  18:38            35,187 water.csv\n",
      "              25 File(s)        958,103 bytes\n",
      "               2 Dir(s)  141,345,533,952 bytes free\n"
     ]
    }
   ],
   "source": [
    "ls"
   ]
  },
  {
   "cell_type": "code",
   "execution_count": 8,
   "id": "3274ccdd",
   "metadata": {},
   "outputs": [
    {
     "data": {
      "text/plain": [
       "'C:\\\\Users\\\\hwbst6\\\\OneDrive - Sheffield Hallam University\\\\StudentProjects\\\\Student projects 2022_23\\\\MSc\\\\Bhargav\\\\130623'"
      ]
     },
     "execution_count": 8,
     "metadata": {},
     "output_type": "execute_result"
    }
   ],
   "source": [
    "pwd"
   ]
  },
  {
   "cell_type": "code",
   "execution_count": null,
   "id": "030f315f",
   "metadata": {},
   "outputs": [],
   "source": []
  }
 ],
 "metadata": {
  "kernelspec": {
   "display_name": "Python 3 (ipykernel)",
   "language": "python",
   "name": "python3"
  },
  "language_info": {
   "codemirror_mode": {
    "name": "ipython",
    "version": 3
   },
   "file_extension": ".py",
   "mimetype": "text/x-python",
   "name": "python",
   "nbconvert_exporter": "python",
   "pygments_lexer": "ipython3",
   "version": "3.9.13"
  }
 },
 "nbformat": 4,
 "nbformat_minor": 5
}
